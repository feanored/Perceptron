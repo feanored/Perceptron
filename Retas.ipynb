{
 "cells": [
  {
   "cell_type": "code",
   "execution_count": 2,
   "metadata": {},
   "outputs": [
    {
     "name": "stdout",
     "output_type": "stream",
     "text": [
      "The autoreload extension is already loaded. To reload it, use:\n",
      "  %reload_ext autoreload\n"
     ]
    }
   ],
   "source": [
    "%load_ext autoreload\n",
    "%autoreload 2"
   ]
  },
  {
   "cell_type": "code",
   "execution_count": 3,
   "metadata": {},
   "outputs": [],
   "source": [
    "import random as rand\n",
    "import numpy as np\n",
    "from network import Network\n",
    "from perceptron import Perceptron\n",
    "from scores import Scores\n",
    "from util import idem, one, sigmoid, derivative_sigmoid as der_sigm\n",
    "import matplotlib.pyplot as plt\n",
    "import seaborn as sns\n",
    "from tqdm.notebook import tqdm\n",
    "import pandas as pd"
   ]
  },
  {
   "cell_type": "code",
   "execution_count": 4,
   "metadata": {},
   "outputs": [],
   "source": [
    "%matplotlib inline\n",
    "sns.set()"
   ]
  },
  {
   "cell_type": "code",
   "execution_count": 5,
   "metadata": {},
   "outputs": [],
   "source": [
    "def plot(pontos, a, b):\n",
    "    px = [p[0] for p in pontos]\n",
    "    py = [p[1] for p in pontos]\n",
    "    y = [a*x + b for x in px]\n",
    "    plt.figure(figsize=(8,6))\n",
    "    plt.plot(px, py, 'g.')\n",
    "    plt.plot(px, y, 'r--')\n",
    "    plt.show()"
   ]
  },
  {
   "cell_type": "markdown",
   "metadata": {},
   "source": [
    "### Método mais rápido para iterar dataframes como uma lista => df.itertuples()"
   ]
  },
  {
   "cell_type": "code",
   "execution_count": null,
   "metadata": {},
   "outputs": [],
   "source": [
    "def reta(ponto):\n",
    "    return ponto[0] + ponto[1] - 10\n",
    "\n",
    "def sinal(ponto):\n",
    "    return 1 if reta(ponto) >= 0 else 0\n",
    "\n",
    "x_train, y_train = [], []\n",
    "for i in range(1000):\n",
    "    x_train.append([rand.random()*50-25, rand.random()*50-25])\n",
    "    y_train.append([sinal(x_train[i])])\n",
    "\n",
    "df_x_train = pd.DataFrame(x_train)\n",
    "plt.plot(np.array(df_x_train.loc[:,0]), np.array(df_x_train.loc[:,1]), \".\")\n",
    "plt.show()"
   ]
  },
  {
   "cell_type": "code",
   "execution_count": null,
   "metadata": {},
   "outputs": [],
   "source": [
    "pd.DataFrame(x_train).hist()\n",
    "plt.show()"
   ]
  },
  {
   "cell_type": "code",
   "execution_count": null,
   "metadata": {
    "scrolled": false
   },
   "outputs": [],
   "source": [
    "network = Network([2, 1, 1], taxa=0.08, ativacoes=[sigmoid, der_sigm, idem, one])\n",
    "a = network.layers[2].neurons[0].weights[0]\n",
    "b = network.layers[2].neurons[0].bias\n",
    "mse = network.norma_l2(x_train, y_train)\n",
    "print(\"Início: %f*x + %f => MSE = %f\"%(a, b, mse))\n",
    "plot(x_train, a, b)"
   ]
  },
  {
   "cell_type": "code",
   "execution_count": null,
   "metadata": {},
   "outputs": [],
   "source": [
    "for k in tqdm(range(100)):\n",
    "    network.train(x_train, y_train)"
   ]
  },
  {
   "cell_type": "code",
   "execution_count": null,
   "metadata": {
    "scrolled": false
   },
   "outputs": [],
   "source": [
    "for layer in network.layers[1:]:\n",
    "    for neuron in layer.neurons:\n",
    "        print(neuron.weights, neuron.bias)\n",
    "        \n",
    "a = network.layers[1].neurons[0].weights[0]\n",
    "b = network.layers[1].neurons[0].bias\n",
    "mse = network.norma_l2(x_train, y_train)\n",
    "print(\"Após %d passos: %f*x + %f => MSE = %f\"%(k, a, b, mse))\n",
    "plot(x_train, -a, -b)"
   ]
  },
  {
   "cell_type": "code",
   "execution_count": null,
   "metadata": {},
   "outputs": [],
   "source": [
    "def sinal_reverso(num):\n",
    "    return 1 if num[0] >= 0.5 else 0\n",
    "\n",
    "network.predict([[1, 1], [-1, 1], [1, -1], [-1, -1], [0, 0]], sinal_reverso)"
   ]
  },
  {
   "cell_type": "markdown",
   "metadata": {},
   "source": [
    "### Me parece que o esquema será gerar um framework pra otimização linear dentro da própria classe network, pq a classe perceptron já tá muito bem feita para o caso não-linear, e com ativação por sinal"
   ]
  },
  {
   "cell_type": "code",
   "execution_count": 83,
   "metadata": {},
   "outputs": [],
   "source": [
    "def sinal(ponto):\n",
    "    return \"1 Quadrante\" if ponto[0] >= 0 and ponto[1] >= 0 else \"Outros\"\n",
    "\n",
    "x_train, y_train = [], []\n",
    "for i in range(1000):\n",
    "    x_train.append([rand.random()*50-25, rand.random()*50-25])\n",
    "    y_train.append([sinal(x_train[i])])\n",
    "x_train = np.array(x_train)\n",
    "y_train = np.array(y_train)"
   ]
  },
  {
   "cell_type": "code",
   "execution_count": 171,
   "metadata": {},
   "outputs": [],
   "source": [
    "from perceptron import Perceptron\n",
    "perceptron = Perceptron(M=50, taxa=0.1, estrategia=\"acuracia\", debug=1)\n",
    "perceptron.tqdm = tqdm\n",
    "perceptron.ativacao_saida = idem\n",
    "perceptron.der_ativacao_saida = one"
   ]
  },
  {
   "cell_type": "code",
   "execution_count": 172,
   "metadata": {},
   "outputs": [
    {
     "name": "stdout",
     "output_type": "stream",
     "text": [
      "Neurônios: [2]\n"
     ]
    },
    {
     "data": {
      "application/vnd.jupyter.widget-view+json": {
       "model_id": "f43a09618cfc480aa0c233316ed9d49e",
       "version_major": 2,
       "version_minor": 0
      },
      "text/plain": [
       "HBox(children=(FloatProgress(value=0.0, max=50.0), HTML(value='')))"
      ]
     },
     "metadata": {},
     "output_type": "display_data"
    },
    {
     "name": "stdout",
     "output_type": "stream",
     "text": [
      "\n",
      "Acurácia: 0.999 | MSE: 0.011\n",
      "Taxa=0.100 | Estrutura=[2, 2, 2]\n",
      "\n",
      "Estrutura da rede: [2, 2, 2]\n"
     ]
    }
   ],
   "source": [
    "perceptron.treinar(x_train, y_train)\n",
    "print(\"Estrutura da rede:\", perceptron.network.estrutura)"
   ]
  },
  {
   "cell_type": "code",
   "execution_count": 160,
   "metadata": {},
   "outputs": [
    {
     "name": "stdout",
     "output_type": "stream",
     "text": [
      "[0.01515598 4.65123941] -0.6050540674015681\n",
      "[ 4.13404654 -0.09314814] 0.9013913686023008\n",
      "[0.48667716 0.43184586] -0.2346817721367501\n",
      "[-0.48667716 -0.43184586] 1.23468177213675\n"
     ]
    }
   ],
   "source": [
    "# exibindo pesos e viéses das camadas, exceto de entrada\n",
    "for layer in perceptron.network.layers[1:]:\n",
    "    for neuron in layer.neurons:\n",
    "        print(neuron.weights, neuron.bias)"
   ]
  },
  {
   "cell_type": "code",
   "execution_count": 161,
   "metadata": {},
   "outputs": [
    {
     "name": "stdout",
     "output_type": "stream",
     "text": [
      "[1, 1]\n",
      "0 [1, 1]\n",
      "1 [0.98306581 0.99291236]\n",
      "2 [0.672539 0.327461]\n",
      "[-1, 1]\n",
      "0 [-1, 1]\n",
      "1 [0.98255373 0.03469651]\n",
      "2 [0.25848823 0.74151177]\n",
      "[1, -1]\n",
      "0 [1, -1]\n",
      "1 [0.00526635 0.99410997]\n",
      "2 [0.19718352 0.80281648]\n",
      "[-1, -1]\n",
      "0 [-1, -1]\n",
      "1 [0.00510992 0.04150673]\n",
      "2 [-0.21427038  1.21427038]\n",
      "[0.672539 0.327461]\n",
      "[0.25848823 0.74151177]\n",
      "[0.19718352 0.80281648]\n",
      "[-0.21427038  1.21427038]\n",
      "[1, 1]\n",
      "0 [1, 1]\n",
      "1 [0.98306581 0.99291236]\n",
      "2 [0.672539 0.327461]\n",
      "[-1, 1]\n",
      "0 [-1, 1]\n",
      "1 [0.98255373 0.03469651]\n",
      "2 [0.25848823 0.74151177]\n",
      "[1, -1]\n",
      "0 [1, -1]\n",
      "1 [0.00526635 0.99410997]\n",
      "2 [0.19718352 0.80281648]\n",
      "[-1, -1]\n",
      "0 [-1, -1]\n",
      "1 [0.00510992 0.04150673]\n",
      "2 [-0.21427038  1.21427038]\n",
      "['1 Quadrante']\n",
      "['Outros']\n",
      "['Outros']\n",
      "['Outros']\n"
     ]
    }
   ],
   "source": [
    "saidas = perceptron.processar([[1, 1], [-1, 1], [1, -1], [-1, -1]])\n",
    "for s in saidas:\n",
    "    print(s)\n",
    "previsoes = perceptron.prever([[1, 1], [-1, 1], [1, -1], [-1, -1]])\n",
    "for p in previsoes:\n",
    "    print(p)"
   ]
  },
  {
   "cell_type": "code",
   "execution_count": 155,
   "metadata": {},
   "outputs": [],
   "source": [
    "x_test, y_test = [], []\n",
    "for i in range(2000):\n",
    "    x_test.append([rand.random()*50-25, rand.random()*50-25])\n",
    "    y_test.append([sinal(x_test[i])])\n",
    "x_test = np.array(x_test)\n",
    "y_test = np.array(y_test)"
   ]
  },
  {
   "cell_type": "code",
   "execution_count": 157,
   "metadata": {},
   "outputs": [
    {
     "data": {
      "image/png": "[encoded data removed]",
      "text/plain": [
       "<Figure size 396x396 with 1 Axes>"
      ]
     },
     "metadata": {},
     "output_type": "display_data"
    }
   ],
   "source": [
    "y_pred = perceptron.prever(x_test)\n",
    "mse = perceptron.funcao_erro(x_test, y_test)\n",
    "score = Scores(y_test, y_pred)\n",
    "score.exibir_grafico(\"MSE: %f\"%mse)"
   ]
  },
  {
   "cell_type": "code",
   "execution_count": null,
   "metadata": {},
   "outputs": [],
   "source": [
    "%%timeit -r 1 -n 1\n",
    "from sklearn.datasets import load_digits\n",
    "digits = load_digits()\n",
    "print(digits.data.shape)\n",
    "\n",
    "import matplotlib.pyplot as plt \n",
    "plt.gray() \n",
    "plt.matshow(digits.images[1]) \n",
    "plt.show() "
   ]
  },
  {
   "cell_type": "code",
   "execution_count": null,
   "metadata": {},
   "outputs": [],
   "source": [
    "%load_ext autoreload\n",
    "%autoreload 2"
   ]
  },
  {
   "cell_type": "code",
   "execution_count": 73,
   "metadata": {},
   "outputs": [],
   "source": [
    "from sklearn.datasets import load_digits # versao 8x8\n",
    "from util import normalizar\n",
    "import numpy as np\n",
    "mnist = load_digits()"
   ]
  },
  {
   "cell_type": "code",
   "execution_count": 78,
   "metadata": {},
   "outputs": [
    {
     "data": {
      "text/plain": [
       "array([ 0.,  0.,  0.,  4., 15., 12.,  0.,  0.,  0.,  0.,  3., 16., 15.,\n",
       "       14.,  0.,  0.,  0.,  0.,  8., 13.,  8., 16.,  0.,  0.,  0.,  0.,\n",
       "        1.,  6., 15., 11.,  0.,  0.,  0.,  1.,  8., 13., 15.,  1.,  0.,\n",
       "        0.,  0.,  9., 16., 16.,  5.,  0.,  0.,  0.,  0.,  3., 13., 16.,\n",
       "       16., 11.,  5.,  0.,  0.,  0.,  0.,  3., 11., 16.,  9.,  0.])"
      ]
     },
     "execution_count": 78,
     "metadata": {},
     "output_type": "execute_result"
    }
   ],
   "source": [
    "_N = int(mnist.data.shape[0]*0.85)\n",
    "x_train, y_train = mnist.data[:_N], mnist.target[:_N].astype(np.uint8)\n",
    "x_test, y_test = mnist.data[_N:], mnist.target[_N:].astype(np.uint8)\n",
    "x_train[2]"
   ]
  },
  {
   "cell_type": "code",
   "execution_count": null,
   "metadata": {},
   "outputs": [],
   "source": [
    "dados = x_test\n",
    "print(dados)\n",
    "\n",
    "normalizar(dados)\n",
    "\n",
    "print(dados)"
   ]
  }
 ],
 "metadata": {
  "kernelspec": {
   "display_name": "Python 3",
   "language": "python",
   "name": "python3"
  },
  "language_info": {
   "codemirror_mode": {
    "name": "ipython",
    "version": 3
   },
   "file_extension": ".py",
   "mimetype": "text/x-python",
   "name": "python",
   "nbconvert_exporter": "python",
   "pygments_lexer": "ipython3",
   "version": "3.7.6"
  }
 },
 "nbformat": 4,
 "nbformat_minor": 4
}
