{
 "cells": [
  {
   "cell_type": "code",
   "execution_count": null,
   "metadata": {},
   "outputs": [],
   "source": [
    "%load_ext autoreload\n",
    "%autoreload 2"
   ]
  },
  {
   "cell_type": "code",
   "execution_count": null,
   "metadata": {},
   "outputs": [],
   "source": [
    "import random as rand\n",
    "import numpy as np\n",
    "from network import Network\n",
    "from util import idem, one, sigmoid, derivative_sigmoid as der_sigm\n",
    "import matplotlib.pyplot as plt\n",
    "import seaborn as sns\n",
    "from tqdm.notebook import tqdm"
   ]
  },
  {
   "cell_type": "code",
   "execution_count": null,
   "metadata": {},
   "outputs": [],
   "source": [
    "%matplotlib inline\n",
    "sns.set()"
   ]
  },
  {
   "cell_type": "code",
   "execution_count": null,
   "metadata": {},
   "outputs": [],
   "source": [
    "def plot(pontos, a, b):\n",
    "    px = [p[0] for p in pontos]\n",
    "    py = [p[1] for p in pontos]\n",
    "    y = [a*x + b for x in px]\n",
    "    plt.figure(figsize=(8,6))\n",
    "    plt.plot(px, py, 'g.')\n",
    "    plt.plot(px, y, 'r--')\n",
    "    plt.show()"
   ]
  },
  {
   "cell_type": "code",
   "execution_count": null,
   "metadata": {},
   "outputs": [],
   "source": [
    "def reta(ponto):\n",
    "    return ponto[0] + ponto[1] - 10\n",
    "\n",
    "def sinal(ponto):\n",
    "    return 1 if reta(ponto) >= 0 else 0\n",
    "\n",
    "x_train, y_train = [], []\n",
    "for i in range(1000):\n",
    "    x_train.append([rand.random()*50-25, rand.random()*50-25])\n",
    "    y_train.append([sinal(x_train[i])])\n",
    "print(y_train[:10])"
   ]
  },
  {
   "cell_type": "code",
   "execution_count": null,
   "metadata": {
    "scrolled": false
   },
   "outputs": [],
   "source": [
    "network = Network([2, 1, 1], taxa=0.08, ativacoes=[sigmoid, der_sigm, idem, one])\n",
    "a = network.layers[2].neurons[0].weights[0]\n",
    "b = network.layers[2].neurons[0].bias\n",
    "mse = network.norma_l2(x_train, y_train)\n",
    "print(\"Início: %f*x + %f => MSE = %f\"%(a, b, mse))\n",
    "plot(x_train, a, b)"
   ]
  },
  {
   "cell_type": "code",
   "execution_count": null,
   "metadata": {},
   "outputs": [],
   "source": [
    "for k in tqdm(range(100)):\n",
    "    network.train(x_train, y_train)"
   ]
  },
  {
   "cell_type": "code",
   "execution_count": null,
   "metadata": {
    "scrolled": false
   },
   "outputs": [],
   "source": [
    "for layer in network.layers[1:]:\n",
    "    for neuron in layer.neurons:\n",
    "        print(neuron.weights, neuron.bias)\n",
    "        \n",
    "a = network.layers[1].neurons[0].weights[0]\n",
    "b = network.layers[1].neurons[0].bias\n",
    "mse = network.norma_l2(x_train, y_train)\n",
    "print(\"Após %d passos: %f*x + %f => MSE = %f\"%(k, a, b, mse))\n",
    "plot(x_train, -a, -b)"
   ]
  },
  {
   "cell_type": "code",
   "execution_count": null,
   "metadata": {},
   "outputs": [],
   "source": [
    "def sinal_reverso(num):\n",
    "    return 1 if num[0] >= 0.5 else 0\n",
    "\n",
    "network.predict([[1, 1], [-1, 1], [1, -1], [-1, -1], [0, 0]], sinal_reverso)"
   ]
  },
  {
   "cell_type": "markdown",
   "metadata": {},
   "source": [
    "Me parece que o esquema será gerar um framework pra otimização linear dentro da própria classe network, pq a classe perceptron já tá muito bem feita para o caso não-linear, e com ativação por sinal"
   ]
  },
  {
   "cell_type": "code",
   "execution_count": null,
   "metadata": {},
   "outputs": [],
   "source": [
    "from perceptron import Perceptron\n",
    "from scores import Scores"
   ]
  },
  {
   "cell_type": "code",
   "execution_count": null,
   "metadata": {},
   "outputs": [],
   "source": [
    "def sinal(ponto):\n",
    "    return \"1 Quadrante\" if ponto[0] >= 0 and ponto[1] >= 0 else \"Outros\"\n",
    "\n",
    "x_train, y_train = [], []\n",
    "for i in range(1000):\n",
    "    x_train.append([rand.random()*50-25, rand.random()*50-25])\n",
    "    y_train.append([sinal(x_train[i])])\n",
    "print(x_train[:10])\n",
    "print(y_train[:10])"
   ]
  },
  {
   "cell_type": "code",
   "execution_count": null,
   "metadata": {},
   "outputs": [],
   "source": [
    "perceptron = Perceptron(ativacao=\"sigm\", M=20)\n",
    "perceptron.tqdm = tqdm\n",
    "perceptron.ativacao_saida = idem\n",
    "perceptron.der_ativacao_saida = one"
   ]
  },
  {
   "cell_type": "code",
   "execution_count": null,
   "metadata": {},
   "outputs": [],
   "source": [
    "perceptron.treinar(np.array(x_train), y_train)\n",
    "print(\"Estrutura da rede:\", perceptron.network.estrutura)"
   ]
  },
  {
   "cell_type": "code",
   "execution_count": null,
   "metadata": {},
   "outputs": [],
   "source": [
    "# exibindo pesos e viéses das camadas, exceto de entrada\n",
    "for layer in perceptron.network.layers[1:]:\n",
    "    for neuron in layer.neurons:\n",
    "        print(neuron.weights, neuron.bias)"
   ]
  },
  {
   "cell_type": "code",
   "execution_count": null,
   "metadata": {},
   "outputs": [],
   "source": [
    "saidas = perceptron.processar([[1, 1], [-1, 1], [1, -1], [-1, -1]])\n",
    "for s in saidas:\n",
    "    print(s)\n",
    "previsoes = perceptron.prever([[1, 1], [-1, 1], [1, -1], [-1, -1]])\n",
    "for p in previsoes:\n",
    "    print(p)"
   ]
  },
  {
   "cell_type": "code",
   "execution_count": null,
   "metadata": {},
   "outputs": [],
   "source": [
    "x_test, y_test = [], []\n",
    "for i in range(1000):\n",
    "    x_test.append([rand.random()*50-25, rand.random()*50-25])\n",
    "    y_test.append([sinal(x_test[i])])"
   ]
  },
  {
   "cell_type": "code",
   "execution_count": null,
   "metadata": {},
   "outputs": [],
   "source": [
    "y_pred = perceptron.prever(np.array(x_test))\n",
    "mse = perceptron.funcao_erro(np.array(x_test), y_test)\n",
    "score = Scores(y_test, y_pred)\n",
    "score.exibir_grafico(\"MSE: %f\"%mse)"
   ]
  }
 ],
 "metadata": {
  "kernelspec": {
   "display_name": "Python 3",
   "language": "python",
   "name": "python3"
  },
  "language_info": {
   "codemirror_mode": {
    "name": "ipython",
    "version": 3
   },
   "file_extension": ".py",
   "mimetype": "text/x-python",
   "name": "python",
   "nbconvert_exporter": "python",
   "pygments_lexer": "ipython3",
   "version": "3.7.6"
  }
 },
 "nbformat": 4,
 "nbformat_minor": 4
}
