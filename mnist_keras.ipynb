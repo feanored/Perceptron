{
 "cells": [
  {
   "cell_type": "markdown",
   "metadata": {
    "colab_type": "text",
    "id": "MhoQ0WE77laV"
   },
   "source": [
    "##### Copyright 2018 The TensorFlow Authors."
   ]
  },
  {
   "cell_type": "code",
   "execution_count": 1,
   "metadata": {
    "cellView": "form",
    "colab": {},
    "colab_type": "code",
    "id": "_ckMIh7O7s6D"
   },
   "outputs": [],
   "source": [
    "%load_ext autoreload\n",
    "%autoreload 2"
   ]
  },
  {
   "cell_type": "markdown",
   "metadata": {
    "colab_type": "text",
    "id": "jYysdyb-CaWM"
   },
   "source": [
    "# Treine sua primeira rede neural: classificação básica"
   ]
  },
  {
   "cell_type": "markdown",
   "metadata": {
    "colab_type": "text",
    "id": "FbVhjPpzn6BM"
   },
   "source": [
    "Este tutorial treina um modelo de rede neural para classificação de imagens de roupas, como tênis e camisetas. Tudo bem se você não entender todos os detalhes; este é um visão geral de um programa do TensorFlow com detalhes explicados enquanto progredimos.\n",
    "\n",
    "O guia usa [tf.keras](https://www.tensorflow.org/guide/keras), uma API alto-nível para construir e treinar modelos no TensorFlow."
   ]
  },
  {
   "cell_type": "code",
   "execution_count": 2,
   "metadata": {
    "colab": {},
    "colab_type": "code",
    "id": "dzLKpmZICaWN"
   },
   "outputs": [
    {
     "name": "stdout",
     "output_type": "stream",
     "text": [
      "2.2.0\n"
     ]
    }
   ],
   "source": [
    "import warnings\n",
    "warnings.simplefilter(action='ignore', category=FutureWarning)\n",
    "\n",
    "# TensorFlow e tf.keras\n",
    "import tensorflow as tf\n",
    "from tensorflow import keras\n",
    "\n",
    "# Librariesauxiliares\n",
    "import numpy as np\n",
    "import matplotlib.pyplot as plt\n",
    "\n",
    "print(tf.__version__)"
   ]
  },
  {
   "cell_type": "markdown",
   "metadata": {},
   "source": [
    "## Testando o mnist clássico dos números"
   ]
  },
  {
   "cell_type": "code",
   "execution_count": 3,
   "metadata": {},
   "outputs": [],
   "source": [
    "from sklearn.datasets import fetch_openml\n",
    "mnist = fetch_openml('mnist_784', version=1) # versao 28x28"
   ]
  },
  {
   "cell_type": "code",
   "execution_count": 4,
   "metadata": {},
   "outputs": [],
   "source": [
    "_N = int(mnist.data.shape[0]*0.8)\n",
    "x_train, y_train = mnist.data[:_N], mnist.target[:_N].astype(np.uint8)\n",
    "x_test, y_test = mnist.data[_N:], mnist.target[_N:].astype(np.uint8)\n",
    "\n",
    "# deixando os vetores nos formatos corretos pra usar no keras\n",
    "y_train = y_train.reshape(-1, 1)\n",
    "y_test = y_test.reshape(-1, 1)\n",
    "x_train = x_train.reshape(-1, 28, 28)\n",
    "x_test = x_test.reshape(-1, 28, 28)"
   ]
  },
  {
   "cell_type": "code",
   "execution_count": 5,
   "metadata": {},
   "outputs": [],
   "source": [
    "model = keras.Sequential([\n",
    "    keras.layers.Flatten(input_shape=(28, 28)), #784\n",
    "    keras.layers.Dense(512, activation='elu'),\n",
    "    keras.layers.Dense(256, activation='elu'),\n",
    "    keras.layers.Dense(128, activation='elu'),\n",
    "    #keras.layers.LeakyReLU(),\n",
    "    keras.layers.Dense(10, activation='softmax')\n",
    "])"
   ]
  },
  {
   "cell_type": "code",
   "execution_count": 6,
   "metadata": {},
   "outputs": [],
   "source": [
    "model.compile(optimizer='adam',\n",
    "              loss='sparse_categorical_crossentropy',\n",
    "              metrics=['accuracy'])"
   ]
  },
  {
   "cell_type": "code",
   "execution_count": 7,
   "metadata": {
    "scrolled": false
   },
   "outputs": [
    {
     "name": "stdout",
     "output_type": "stream",
     "text": [
<<<<<<< HEAD
      "Epoch 1/25\n",
      "1750/1750 [==============================] - 44s 25ms/step - loss: 0.9435 - accuracy: 0.8980\n",
      "Epoch 2/25\n",
      "1750/1750 [==============================] - 38s 22ms/step - loss: 0.1908 - accuracy: 0.9470\n",
      "Epoch 3/25\n",
      "1750/1750 [==============================] - 43s 25ms/step - loss: 0.1608 - accuracy: 0.9553\n",
      "Epoch 4/25\n",
      "1750/1750 [==============================] - 42s 24ms/step - loss: 0.1328 - accuracy: 0.9633\n",
      "Epoch 5/25\n",
      "1750/1750 [==============================] - 40s 23ms/step - loss: 0.1168 - accuracy: 0.9682\n",
      "Epoch 6/25\n",
      "1750/1750 [==============================] - 45s 26ms/step - loss: 0.1119 - accuracy: 0.9707\n",
      "Epoch 7/25\n",
      "1750/1750 [==============================] - 43s 25ms/step - loss: 0.0939 - accuracy: 0.9755\n",
      "Epoch 8/25\n",
      "1750/1750 [==============================] - 43s 24ms/step - loss: 0.0821 - accuracy: 0.9791\n",
      "Epoch 9/25\n",
      "1750/1750 [==============================] - 48s 28ms/step - loss: 0.0794 - accuracy: 0.9803\n",
      "Epoch 10/25\n",
      "1750/1750 [==============================] - 40s 23ms/step - loss: 0.0703 - accuracy: 0.9825\n",
      "Epoch 11/25\n",
      "1750/1750 [==============================] - 37s 21ms/step - loss: 0.0689 - accuracy: 0.9837\n",
      "Epoch 12/25\n",
      "1750/1750 [==============================] - 31s 18ms/step - loss: 0.0731 - accuracy: 0.9836\n",
      "Epoch 13/25\n",
      "1750/1750 [==============================] - 30s 17ms/step - loss: 0.0589 - accuracy: 0.9866\n",
      "Epoch 14/25\n",
      "1750/1750 [==============================] - 31s 17ms/step - loss: 0.0540 - accuracy: 0.9878\n",
      "Epoch 15/25\n",
      "1750/1750 [==============================] - 31s 18ms/step - loss: 0.0585 - accuracy: 0.9874\n",
      "Epoch 16/25\n",
      "1750/1750 [==============================] - 35s 20ms/step - loss: 0.0504 - accuracy: 0.9884\n",
      "Epoch 17/25\n",
      "1750/1750 [==============================] - 45s 26ms/step - loss: 0.0575 - accuracy: 0.9883\n",
      "Epoch 18/25\n",
      "1750/1750 [==============================] - 52s 30ms/step - loss: 0.0541 - accuracy: 0.9895\n",
      "Epoch 19/25\n",
      "1750/1750 [==============================] - 53s 31ms/step - loss: 0.0547 - accuracy: 0.9895\n",
      "Epoch 20/25\n",
      "1750/1750 [==============================] - 45s 26ms/step - loss: 0.0570 - accuracy: 0.9890\n",
      "Epoch 21/25\n",
      "1750/1750 [==============================] - 34s 19ms/step - loss: 0.0534 - accuracy: 0.9898\n",
      "Epoch 22/25\n",
      "1750/1750 [==============================] - 39s 22ms/step - loss: 0.0638 - accuracy: 0.9889\n",
      "Epoch 23/25\n",
      "1750/1750 [==============================] - 35s 20ms/step - loss: 0.0658 - accuracy: 0.9881\n",
      "Epoch 24/25\n",
      "1750/1750 [==============================] - 52s 30ms/step - loss: 0.0634 - accuracy: 0.9885\n",
      "Epoch 25/25\n",
      "1750/1750 [==============================] - 51s 29ms/step - loss: 0.0521 - accuracy: 0.9903\n"
=======
      "Epoch 1/20\n",
      "1750/1750 [==============================] - 12s 7ms/step - loss: 0.9146 - accuracy: 0.8998\n",
      "Epoch 2/20\n",
      "1750/1750 [==============================] - 14s 8ms/step - loss: 0.1912 - accuracy: 0.9476\n",
      "Epoch 3/20\n",
      "1750/1750 [==============================] - 16s 9ms/step - loss: 0.1523 - accuracy: 0.9582\n",
      "Epoch 4/20\n",
      "1750/1750 [==============================] - 15s 9ms/step - loss: 0.1280 - accuracy: 0.9641\n",
      "Epoch 5/20\n",
      "1750/1750 [==============================] - 16s 9ms/step - loss: 0.1182 - accuracy: 0.9672\n",
      "Epoch 6/20\n",
      "1750/1750 [==============================] - 16s 9ms/step - loss: 0.1085 - accuracy: 0.9704\n",
      "Epoch 7/20\n",
      "1750/1750 [==============================] - 16s 9ms/step - loss: 0.0953 - accuracy: 0.9739\n",
      "Epoch 8/20\n",
      "1750/1750 [==============================] - 11s 6ms/step - loss: 0.0845 - accuracy: 0.9773\n",
      "Epoch 9/20\n",
      "1750/1750 [==============================] - 12s 7ms/step - loss: 0.0903 - accuracy: 0.9779\n",
      "Epoch 10/20\n",
      "1750/1750 [==============================] - 12s 7ms/step - loss: 0.0722 - accuracy: 0.9813\n",
      "Epoch 11/20\n",
      "1750/1750 [==============================] - 11s 6ms/step - loss: 0.0667 - accuracy: 0.9835\n",
      "Epoch 12/20\n",
      "1750/1750 [==============================] - 12s 7ms/step - loss: 0.0593 - accuracy: 0.9851\n",
      "Epoch 13/20\n",
      "1750/1750 [==============================] - 11s 6ms/step - loss: 0.0673 - accuracy: 0.9838\n",
      "Epoch 14/20\n",
      "1750/1750 [==============================] - 12s 7ms/step - loss: 0.0640 - accuracy: 0.9856\n",
      "Epoch 15/20\n",
      "1750/1750 [==============================] - 12s 7ms/step - loss: 0.0594 - accuracy: 0.9869\n",
      "Epoch 16/20\n",
      "1750/1750 [==============================] - 11s 6ms/step - loss: 0.0550 - accuracy: 0.9879\n",
      "Epoch 17/20\n",
      "1750/1750 [==============================] - 11s 7ms/step - loss: 0.0557 - accuracy: 0.9878\n",
      "Epoch 18/20\n",
      "1750/1750 [==============================] - 11s 6ms/step - loss: 0.0482 - accuracy: 0.9899\n",
      "Epoch 19/20\n",
      "1750/1750 [==============================] - 11s 6ms/step - loss: 0.0596 - accuracy: 0.9882\n",
      "Epoch 20/20\n",
      "1750/1750 [==============================] - 12s 7ms/step - loss: 0.0615 - accuracy: 0.9899\n"
>>>>>>> master
     ]
    },
    {
     "data": {
      "text/plain": [
<<<<<<< HEAD
       "<tensorflow.python.keras.callbacks.History at 0x7fd21c304520>"
=======
       "<tensorflow.python.keras.callbacks.History at 0x7f842c01b8e0>"
>>>>>>> master
      ]
     },
     "execution_count": 7,
     "metadata": {},
     "output_type": "execute_result"
    }
   ],
   "source": [
<<<<<<< HEAD
    "model.fit(x_train, y_train, epochs=25) # mais do que 20 é inútil"
=======
    "model.fit(x_train, y_train, epochs=20) # mais do que 20 é inútil"
>>>>>>> master
   ]
  },
  {
   "cell_type": "code",
   "execution_count": 8,
   "metadata": {},
   "outputs": [
    {
     "name": "stdout",
     "output_type": "stream",
     "text": [
<<<<<<< HEAD
      "1750/1750 - 13s - loss: 0.0274 - accuracy: 0.9941\n"
=======
      "1750/1750 - 4s - loss: 0.0462 - accuracy: 0.9897\n"
>>>>>>> master
     ]
    }
   ],
   "source": [
    "test_loss, test_acc = model.evaluate(x_train, y_train, verbose=2)"
   ]
  },
  {
   "cell_type": "code",
   "execution_count": 9,
   "metadata": {},
   "outputs": [
    {
     "name": "stdout",
     "output_type": "stream",
     "text": [
<<<<<<< HEAD
      "438/438 - 4s - loss: 0.1791 - accuracy: 0.9798\n"
=======
      "438/438 - 1s - loss: 0.1818 - accuracy: 0.9723\n"
>>>>>>> master
     ]
    }
   ],
   "source": [
    "test_loss, test_acc = model.evaluate(x_test, y_test, verbose=2)"
   ]
  },
  {
   "cell_type": "code",
   "execution_count": 10,
   "metadata": {},
   "outputs": [],
   "source": [
    "preditions = model.predict(x_test)\n",
    "\n",
    "# meu próprio one-hot das 10 classes de números\n",
    "y_pred = []\n",
    "for y in preditions:\n",
    "    y_max = np.argmax(y)\n",
    "    y_pred.append([y_max])\n",
    "y_pred = np.array(y_pred).reshape(-1, 1)"
   ]
  },
  {
   "cell_type": "code",
   "execution_count": 11,
   "metadata": {},
   "outputs": [
    {
     "data": {
<<<<<<< HEAD
      "image/png": "iVBORw0KGgoAAAANSUhEUgAAAV4AAAFtCAYAAABPxQIZAAAAOXRFWHRTb2Z0d2FyZQBNYXRwbG90bGliIHZlcnNpb24zLjMuMSwgaHR0cHM6Ly9tYXRwbG90bGliLm9yZy/d3fzzAAAACXBIWXMAAAsTAAALEwEAmpwYAABrJ0lEQVR4nO3dd1QUVx/G8S+7K0gVLNi7omJib9hQFGPsJSrWRGPsvcUSo7EbY8Pea6LGhqASNdaIBayoqCAaFUGQ3lnYnfcPXzcSGyAzGL2fcziHndm9z70zy4/Z2dm9RpIkSQiCIAiKUeV0BwRBED41ovAKgiAoTBReQRAEhYnCKwiCoDBReAVBEBQmCq8gCILCROH9j3N3d6dfv37v3c7EiRNZvHhxNvQoeyQnJzNo0CBq1qzJiBEj3qut5cuX06RJE+7evUvv3r2zqYc5Y+3atYwaNSpD982u54aQ/UThlYGTkxOfffYZkZGR6Za3b9+eChUqEBQU9M42goKCqFChAmlpaW+9X7t27di4ceN79fdD9McffxAeHs7FixdxdXV9r7b8/f3ZsmUL8+bNo1atWtnUQ+U9ePCAw4cPM3v27AzdPzufG7GxsXz//fc4ODjg4ODAsmXL0q2/ffs2PXr0oGbNmjRu3Jjly5e/sS1JkliwYAF169albt26/Pzzz7z4OEFaWhqjR4+mVq1a9O/fn/j4eMPjVq1axebNm7NlPDlNFF6ZFC1alEOHDhlu3717l+Tk5GzNeFdR/i8LDg6mVKlSaDSa927L1dWVkiVLsmnTJkaOHJkNvVPOy/v4wYMHLFy4EHNzc8X7MXfuXJKSkjhx4gS7d+/mwIED7N2717B+7Nix1K5dG29vb7Zv387OnTs5fvz4a9vatWsXf/75JwcOHMDd3Z1Tp06xc+dOAI4ePYqRkREXLlzAwsKCXbt2AfD48WNOnjxJr1695B+sAkThlUn79u1xc3Mz3HZzc6NDhw7p7nPq1Ck6dOhAjRo1cHR0THcU8eIJVrt2bapXr87Vq1fZt28fLi4uzJkzhzp16rBs2TL27dtH9+7dAVi3bh3Vq1c3/FSuXJmJEye+tn9+fn507NiR6tWrM2rUKFJSUtKtP3nyJO3bt6dWrVq4uLhw586dN441ICCAvn37UqdOHerXr8/q1asB0Gq1zJ49m4YNG9KwYUNmz56NVqsF4OLFizRu3JiNGzfi4OBAw4YNDX/Irq6urFy5Ek9PT6pXr87u3btZtmwZ48aNM2T++xXBvn37aNasGdWrV8fJyQl3d3cAHj16RJ8+fQxHV2PHjiU2NtbQTmBgIL1796ZWrVq0bt36jcXidWbNmoWjoyM1atSgU6dOXLp0ybBOp9OxevVqmjdvTvXq1enUqRMhISGvfSXTu3dvdu/ebRjHv/fxizFMmjSJHj16vDKGkJAQhg0bRr169ahbty4zZswwtPXiufGu/r7LiRMn6N+/P6amphQrVoyvvvoqXeF98uQJbdu2Ra1WU6JECWrUqMG9e/de25abmxv9+vWjUKFCFCxYkL59+7J//37g+X6tU6cOGo2GunXr8vjxYwBmz57NhAkTsuUf8QdBErJd06ZNJS8vL6lFixbSvXv3pLS0NKlx48ZSUFCQZGdnJz1+/FiSJEm6cOGCdOfOHUmn00m3b9+WHBwcpGPHjkmSJEmPHz+W7OzspNTUVEO7e/fulSpVqiRt3bpVSk1NlZKSkqS9e/dKLi4ur/QhODhYatCggXTq1KlX1qWkpEhNmjSRNm3aJGm1WsnT01Oyt7eXFi1aJEmSJN28eVOqV6+edO3aNSktLU3at2+f1LRpUyklJeWVtuLi4qQGDRpIGzZskJKTk6W4uDjp2rVrkiRJ0pIlS6QuXbpI4eHhUkREhNStWzdp8eLFhrFXqlRJWrJkiaTVaqVTp05JVapUkaKjoyVJkiRXV1dp7Nixhpx/3355+yQkJEjVq1eXAgMDJUmSpNDQUMnf31+SJEn6+++/pbNnz0opKSlSRESE1KNHD2nWrFmSJEmSVquVmjdvLq1atUpKSUmRzp07J1WrVs3Qzru4ublJkZGRUmpqqrRhwwapfv36UnJysiRJkrRu3TqpTZs2UmBgoKTX66Xbt29LkZGRr92vvXr1kn7//XdJkl6/jx88eCD99ddfrx1DWlqa1LZtW2n27NlSQkKClJycLPn4+Bjaevm58bb++vj4SDVr1nzjWOvUqSNdv37dcHvlypVSrVq1DLcXLlwoLViwQNJqtVJgYKDUqFGjdPd/WY0aNQzPEUmSJF9fX6latWqSJEnSyZMnpZEjR0opKSnSyJEjpe3bt0tHjx6VJk6cmIE98t8hjnhl9OKo18vLizJlylCwYMF06+vWrUuFChVQqVRUrFiR1q1b4+3t/dY2bW1t6d27NxqNhty5c7/2PsnJyQwdOpQ+ffrg6Oj4yvrr16+TmprK119/Ta5cuWjZsiWff/65Yf3vv/9Ot27dqFq1Kmq1mo4dO5IrVy6uXbv2SlunTp0if/789OvXDxMTEywsLKhatSoAHh4eDB06lHz58pE3b16GDh1qOBIF0Gg0DB06lFy5cuHo6IiZmRkPHjx46/jfRKVSERAQQHJyMra2tpQvXx6AkiVL0qBBA4yNjcmbNy99+/bFx8fHsB0SExMZMGAAxsbGODg40LRp03SniN6mffv22NjYoNFo6NevH1qt1tD/3bt3M3LkSMqUKYORkREVK1bExsYmQ+3+ex+XKlWKhg0bvnYMvr6+hIWFMWHCBMzMzDAxMXnjeey39bdWrVpvPQJu1KgRa9euJT4+nocPH7J3716SkpIM65s0acKRI0eoWrUqX375JV999RVVqlR5bVuJiYlYWFgYbltaWpKYmIgkSTg6OlKsWDE6d+6MpaUlrVq1Yvny5YwbN47FixfTs2dPpk+fbnjl9F/1kRy3f5jat29Pr169CAoKon379q+sv379Or/88gsBAQGkpqai1Wpp2bLlW9ssVKjQO3OnTJlC6dKlGTBgwGvXh4WFUbBgQYyMjAzLihQpYvg9ODgYNzc3tm/fbliWmppKWFjYK22FhIRQokSJN+a83G6RIkXStWFtbZ3upaOpqSmJiYnvHN+/mZmZsXjxYjZu3MiUKVOoUaMG33//PWXLliUiIoJZs2Zx6dIlEhISkCQJKysrQ/8KFSqESvXP8UeRIkUIDQ3NUO7GjRvZvXs3YWFhGBkZER8fT1RUFABPnz5943Z5l3/v46ioKObPn8+VK1dISUkhLS3NsN1CQkIoUqRIhl6Cv62/7/LDDz8wc+ZMvvjiC6ytrWndurXhH1R0dDT9+/fnxx9/pE2bNoSHhzNixAjy5ctHz549X2nLzMyMhIQEw+34+HjMzMwMz8dx48YZTivNnz8fFxcXbt68yc2bN9m+fTs//PADe/fuTXca5b9GHPHKqGjRohQrVozTp0/TokWLV9aPHTuWZs2acfr0aS5fvoyLi4vh3d2Xi+LL3rT8hbVr1/LgwYO3vvNdoEABQkNDDVnwvNi+ULhwYQYNGsSlS5cMP9evX6dNmzavtFW4cGEePXr02hxbW9t07YaEhGBra/vW/r+Jqalpujcnw8PD061v1KgRmzZt4uzZs5QpU4apU6cCsHDhQoyMjHB3d+fKlSssWLDAMG5bW1uePn2KXq9P18d/vzJ5nUuXLrFu3TqWLFmCj48Ply5dwtLS0tB2oUKFXrtdzMzMANKN5dmzZ+nu8+99vHDhQnQ6Hfv37+f06dNMnz7dkFO4cGFCQkLe+Ubru/r7LtbW1ixcuBAvLy8OHTqEJEmGI9rHjx+jVqvp0KEDGo2GQoUK0apVK86cOfPatsqXL5/uPYM7d+4YXqG8zN/fn6tXr9KtWzfu3r1L5cqVMTIy4vPPP+fu3bsZ6veHShRemc2ePZstW7YY/uBelpCQQJ48eTAxMcHX15eDBw8a1uXNmxeVSmV4cyEjTp8+zdatW1mxYsUbT0MAVKtWDY1Gw9atW0lLS+Po0aPcuHHDsL5Lly7s3LmT69evI0kSiYmJnDp1Kt2lPS80adKE8PBwNm/ejFarJT4+nuvXrwPQunVrVq1aRWRkJJGRkaxYsYK2bdtmeDwvq1SpEj4+PgQHBxMXF8eaNWsM68LDwzl+/DiJiYkYGxtjZmaGWq0Gnm9jMzMzrKysCA0NZf369YbHValSBVNTU9avX09qaioXL17kxIkTtGrVCnj+5pSTk9Nr+5OQkIBarSZv3rykpaWxfPnydNunS5cuLF26lL///htJkrhz5w5RUVHkzZuXggULcuDAAXQ6HXv27HnnPo6NjSVXrlyYmJgQGhrKhg0b0o2hQIECLFy4kMTERFJSUrh8+XKm+/sujx49IioqCp1Ox+nTp9m1axeDBw8GoHTp0kiShIeHB3q9nmfPnuHp6UnFihVf21b79u3ZtGkToaGhhIaGsmnTJjp27JjuPpIkMWPGDKZMmYJKpaJYsWJcvnwZrVaLj48PxYsXz3DfP0Si8MqsRIkS6c6fvmzatGm4urpSvXp1VqxYwZdffmlYZ2pqyqBBg+jevTu1atV67fnVf/P09CQqKopWrVoZrmz48ccfX7mfsbExy5YtY//+/dSuXZvDhw/j7OxsWP/5558zc+ZMZsyYQe3atWnRogX79u17baaFhQUbN27k5MmTNGjQgC+++IKLFy8CMGTIED777DPatWtHu3btqFy5MkOGDHnnOF6nQYMGtGrVinbt2tGpUyeaNm1qWKfX69m0aRONGjWiTp06+Pj4MG3aNACGDRuGn58ftWrVYsCAAeleeRgbG7Nq1SrOnDlDvXr1+Omnn/j5558pW7Ys8Pzot3r16q/tT8OGDWncuDFffPEFTk5OmJiYULhwYcP6vn378uWXX9KvXz9q1KjBlClTDFeOzJw5kw0bNlC3bl3u3bv3xowXhg8fzp07d6hdu/YrY1Cr1axevZqHDx/StGlTGjdujKenZ6b7e+nSpbf24+bNm7Rt25YaNWqwaNEifvnlF8NRqoWFBcuWLWPz5s3Url2bDh06UL58eQYNGvTatl1cXGjatClt27albdu2ODo64uLiki5v7969lC9f3vC306JFC2xtbXFwcCA6Oppu3bq9dZt96IykjL7WEIRPTL9+/ZgyZYqhEAtCdhGFVxAEQWHiVIMgCILCROEVBEFQmCi8giAICvvPfYAi6eT6d98pm1l+MU3xTEH4mLz96nP55OQbWGnaJ29cJ454BUEQFCYKryAIgsJE4RUEQVCYKLyCIAgKE4VXEARBYaLwCoIgKEwUXkEQBIWJwisIgqAwUXgFQRAUJgqvIAiCwv6ThXfnySv0mLOV2sMWMXXzYcPywOBweszZSqMxrjQa48rAJbsIDP5niphVHl7UGrIQh5FLDD9Bz6IN6+88DqXvL7/RcNRSWkxcxZpD57LcRxsba/bsXk9MVACBARdxcemQ5bYyw9jYmLVrfiEw4CJREXfx8T5Cyy+avvuB7ymnxptTuUMGf8OF84dJiLvPhvWLFcmET287lyxZDPcDWwkLvcXjR1dZumSWYXYRuZUrV5r42EC2bHbN9rb/c9/VAFDA2oL+rRw47/eAZG1auuULBrSnSD4r9JLErlNXmbjBg91T+xru06JWBeb0e3XuMIDJGw7RtFp51o9xITgihr4LdlChWNbmCFvmOhutNpUixapSrWpl3A9sxdfXDz8//yy1l1EajZqgoGCcmnfm0aMntPqyGTt+W021Gs14+DBIttycGm9O5QaHhDJn7lJaODfB1PTN0yxlt09tOy9zncOzZxEUL1EDa2sr/vDcweBBX7N8xUZZcwGWLZ3NpUvXZWlbsSPeqKgobt++ze3btzM8s+mbNKtuh1O18uQxN0233MosN0Xz58HIyAhJApXKiMdh0RluNzgihlZ1KqFWqShewIZq5YoSGBL+7gf+i5mZKZ06tmLa9AUkJCTidc4Hj4PH6NWzc6bbyqzExCRmzFzEw4dBSJLEocN/8uDvR9So8fqptrNDTo03J7ezm5sn7u5HiIx8v+dyZnyK27lU6RLs3uNBSkoKoaHPOHLkFPb2FWTP7dq1HdExsZw4eVaW9mU/4n306BFTp07Fz8/PMMNsWFgY9vb2/PTTT5QqVSrbMxuOdiUpRYtekhjStmG6dWd8A2k8Zhn585jj0qQ6XR3/mQuqR7OaHLx4iyHtGvLkWQy+94P5pkWdTOfb2ZVBp9MREHDfsMzX9xaNGztkfVBZZGubH7vyZfDzk29W1pwa74e0nZXwKW7n5cs20K1re06fPoeNjTVftGzK9OkLZM20tLRg+rTxtPiiG/36urz7AVkge+GdMGECPXr0YNOmTahUzw+w9Xo9Hh4efP/99+zatSvbM88uHkFSihb387conM/KsLxFzQp0blSVfFZm3HgQwrg1B7A0y82XtSsB0PjzskzdfJitx3zQ6SUGtHbgs1KF3xTzRhbm5sTExKVbFhMTh6WF+fsNLJM0Gg3btixn67Y93L0bKFtOTo33Q9nOSvkUt/OZv87z7bc9iIy4+/+ZsX/nwIE/ZM38afp4Nm3aQVBQsGwZsp9qiI6Opl27doaiC6BSqWjfvj0xMTGy5ZqaGNOlcTWmbj5MZGwCAGWL5MfW2gK1SkW1skXp4VSTP688PxKMSUhi6LI9DGjtwMVlYzgydxDn/f5m16mrmc6OT0jAysoy3TIrK0vi4hPef2AZZGRkxJbNrmi1WkaMnCJrVk6N90PYzkr61LazkZERhw7+xn43T/JYl6dgoc+wtsnD3LnyPZ+rVq1Ms2aNWLJ0nWwZoEDhtba25uDBg7w8p6YkSbi7u2NlZfWWR74/vSSRrE0jLDr+teuNjOBFt4LCY1CpjGhb7zM0ahUFbSz5olZFzt66/9rHvo2//300GjXlypU2LKtSxV7Wl/v/tm7tQgraFqBLtwGkpaW9+wHvIafG+yFsZyV9ats5b15rSpQoysqVm9BqtURGRrFlyy5atnSSLdOxsQOlShbnQaA3QY+uMmb0IDp1bIX3xew9ypa98M6bN4/du3dTt25d2rZtS9u2balbty579uxh3rx5WWozTacnJTUNvV5CL0mkpKaRptNz3u9v7jwKRafXE5+UwsI9J7EyM6F04XwAnLwWQGxCMpIkceNBCL+duEKTquUAKGlrgyTBYW8/9HqJ8Jh4jl66g13RzF/VkJiYxH43T6ZPG4eZmSn1HWrRrm0Ltv+6N0vjzawVy+dRqWJ52nf8muTkZNnzcmq8Obmd1Wo1JiYmqNWql36X9zKnT207R0REcf/+QwYO7INarSZPHit69+7CDV8/2TLXrd+OXcX61Kzdgpq1W7B27TYOe56gVese2Zqj2PTukZGRhISEAFC4cGHy5s2bpXaSTq5nlYfXK9fYDmxdn7JF8rPS/Syh0XHkzqXBvmQhRnZsjN3/LwmbuN6D87f/Rpumo6C1JV0dq9HDqaahDe87D1my/wyPQiMxMdbQ+PNyTOjmhG3bWZnup42NNevXLaR5s8ZEREQx+Yc57NzplqUxZ0aJEkW5f8+b5ORk0tJ0huWDh37Pjh37ZcvNqfHmVO6PU8fw49Sx6ZbNmLmQGTMXyZr7X93OWZ36p2rVyiz8ZTpVqtij0+k5dfocI0ZM5tmziAw9/n2L249Tx1C2bCm+/mZEph/7tql/FCu82UXMuSYI/z1izrX0/pOfXBMEQfgvE4VXEARBYaLwCoIgKEwUXkEQBIWJwisIgqAwUXgFQRAUJgqvIAiCwkThFQRBUJgovIIgCAr7z31yTWNcVPHMpOC/FM8EMC3SKEdyBSG7qVU5c4yn0+tzJBfEJ9cEQRA+KKLwCoIgKEwUXkEQBIWJwisIgqAwUXgFQRAUJgqvIAiCwkThFQRBUJgovIIgCAoThVcQBEFhovAKgiAo7JMovDY21uzZvZ6YqAACAy7i4tIhS+38tsedrv1GUL1JW6bMWmhY/iQklM8afEnt5h0NP6s3/fbK41NTU2nb/TuadeiVbvmTkFD6DvueWk4daNv9O877XM1S/wC2bHbl8cMrRIbfwe/WX/Tr2z3LbWVFuXKliY8NZMtmV0Xyhgz+hgvnD5MQd58N6xcrkpmTudn1XM4MJcc6eNDXnPM6RGzMPdatSz9jc9++Lvjd+ouI8Dt4uG+jcOGCsvVD7u2sydbWPlDLXGej1aZSpFhVqlWtjPuBrfj6+uHn55+pdgrkz8fAb1zwuniZlBTtK+vP/7EHjUb9xsdv/G0PeW2sSUxKSrd8wrR5VP2sEqsWzuCvcz6M+WE2h3ZmbTbl+T8v57sB49BqtVSoUJbjx/Zw7dpNrly9kaX2MmvZ0tlcunRdkSyA4JBQ5sxdSgvnJpia5v7oc7PruZwZSo41OCSUefNccXZ2JPdLWY0a1WPGT9/T4otu3Lv3gEULf2Lr1uU4O3eRpR9yb+eP/ojXzMyUTh1bMW36AhISEvE654PHwWP06tk50205N2lAs8b1sc5jlenHBgU/5eCRk/Tv3TXd8r8fBeHnf4+h3/Yit4kJzk0bUr5MKY6d8sp0BoCfnz9a7fN/CpIEkiRRpmypLLWVWV27tiM6JpYTJ88qkgfg5uaJu/sRIiOjFMvMqdzsfC5nhpJjPXDgD9w9jhDxr6zWrZqzb98hbt/2JzU1lTlzl9K4UT3KlCmZ7X1QYjt/9IXXzq4MOp2OgID7hmW+vrewt6+Q7VktOn9Nsw69+GH2IqKiY9Ktm7N4FSMHfo2JiUm65fcePKRYkcKYm5sZllUoV4bABw+z3I9lrnOIjb6H380zhDwNw9PzeJbbyihLSwumTxvP+AkzZM/6VCn5XP7QGBkZYWRklO42QGUZxq7Eds7Rwtu2bVvZMyzMzYmJiUu3LCYmDksL82zLsMljxc71Szm6dwu7Ni4jITGR73/62bD+z9Ne6HQ6mjs2eOWxiUnJWL5UdAEsLMxISEx65b4ZNXzEZKzz2uHYpANubp6vPS2S3X6aPp5Nm3YQFBQse9anSonn8ofqjyMn6Ny5DZ99VpHcuXMzZfJI9Ho9pmam2Z6lxHaW/RzvvXv33rguKkr+ly7xCQlYWVmmW2ZlZUlcfEK2ZZiZmfJZJTsA8ue1YcqYITRp15P4hARUKjWLVm5k1S+vPxI0M81NfGJiumUJCYmYv+cTSq/X43XOhx49OjNoYB+Wr9j4Xu29TdWqlWnWrBG1an8hW4agzHP5Q3XypBczZy5i1861WFlZ4rpsPXFx8Tx5EpLtWUpsZ9kLb5s2bShatCiv+7716OhouePx97+PRqOmXLnS3Lv3AIAqVezx87srX+j/XwZJEjx6/ITgkFD6DBkPPL+yIT4hEce2Pfht7WLKlS5JUPDT58X2/0e+d+89oJVzk2zpikajluU82MscGztQqmRxHgR6A2BhYY5araJSJTvq1G0pa/anJEeeyx+Q1Wu2sHrNFgDKlyvNpIkjuHUr+8euxHaWvfAWLVqU3377jYIFX730w9HRUe54EhOT2O/myfRp4xgwcBzVqlamXdsWNHJsn+m20tJ06HQ6dDo9Or2elBQtarUav7sBWFpYULJ4EWLj4pm7eDW1q1fB0sKccmVK8ef+rYY2rt64zZxFK9m9aRk21nlQq9VULFeGlZt+ZcR3X/PXBR/8Ax+wePaUTPevQIF8NG3agEOH/iQpKZnmzRrh0q0DvfoMzXRbmbFu/XZ2/X7AcHvs6EGULFWcocMmypoLoFar0Wg0qNUq1Go1JiYmpKWlodPpPrrc7HwuZ4aSY02fpTJkaTQaypYthZ/fXYoXL8KKlfNZvmIj0f96LyU7KLGdZT/H26JFC548ef0UGM7OznLHAzBs+GRMTXMT8sSX7dtWMnT4pCxdFrJmyw5qOrVnw/bfOXjkBDWd2rNmyw6Cgp8yaOwP1HXuRIfegzA2zsWCn74Hnh9x5s+X1/CTx8oSlcqI/PnyolY/v/RswYxJ3LoTQP2WXViyahOLZk0hr411pvsnSRKDBvTh4YNLhIf5MX/+VMaMnYaHx9FMt5UZSUnJhIY+M/zEJySQnJxMeHikrLkAUyaPJCHuPt9PGE6vnp1JiLvPlMkjP9rc7HouZ4aSY500aQSxMfeYMH4YPXt0JjbmHpMmjSB3bhO2bllGZMRdzv7lwcWLl5k+fYEsfQD5t7OYcy0DxJxrgvB+xJxr6X30l5MJgiB8aEThFQRBUJgovIIgCAoThVcQBEFhovAKgiAoTBReQRAEhYnCKwiCoDBReAVBEBQmCq8gCILCxCfXPmDxF1blSK5FvcE5kisIHxPxyTVBEIQPiCi8giAIChOFVxAEQWGi8AqCIChMFF5BEASFicIrCIKgMFF4BUEQFCYKryAIgsJE4RUEQVDYJ1F4t2x25fHDK0SG38Hv1l/069td9kwbG2v27F5PTFQAgQEXcXHpkOW2dhzxovvkpdTqPZGpq3a+9j6r9xylavfxXLjxz4R83rfu8e3M1TToN5Uvh895Y/uX/AKp2n08y3f9kaX+GRsbs3bNLwQGXCQq4i4+3kdo+UXTLLWVWUMGf8OF84dJiLvPhvWLFcmE7N2/mZFT432hXLnSxMcGsmWz60ebq8Q2ln169w/B/J+X892AcWi1WipUKMvxY3u4du0mV67ekC1zmetstNpUihSrSrWqlXE/sBVfX78szVRawMaK7zo245zvXVK0qa+sfxwazjHvGxSwtkq33NTEmA5NapNSvxob3E68tu3UNB0/bz3A5+VKZLpfL2g0aoKCgnFq3plHj57Q6stm7PhtNdVqNOPhw6Ast5sRwSGhzJm7lBbOTTA1zS1r1suyc/9mRk6N94VlS2dz6dL1jzpXiW38SRzx+vn5o9VqAZCk59OglylbSrY8MzNTOnVsxbTpC0hISMTrnA8eB4/Rq2fnLLXXvM7nONX+DGsL89eun7vJjVHdW5FLo063/PNyJWjbqCbFbPO+se2th07j8LkdpYsUyFLfABITk5gxcxEPHwYhSRKHDv/Jg78fUaNGlSy3mVFubp64ux8hMjJK9qwXsnv/ZkZOjPeFrl3bER0Ty4mTZz/qXCW28SdReAGWuc4hNvoefjfPEPI0DE/P47Jl2dmVQafTERBw37DM1/cW9vYVsj3r6IXr5NKoaVS9UqYfG/wsCrdTPgzs7JytfbK1zY9d+TL4+d3N1nY/FEru3w+FpaUF06eNZ/yEGZ9ErtxkL7xRUVFMmTKFfv368euvv6ZbN3z4cLnj/8kaMRnrvHY4NumAm5snKSla2bIszM2JiYlLtywmJg7LNxyxZlVicgrLdv3B+D7ts/T4+VvcGNr1C8xym2RbnzQaDdu2LGfrtj3cvRuYbe1+SJTavx+Sn6aPZ9OmHQQFBX8SuXKTvfBOmzaNPHny4OLiwp9//smwYcNIS0sD4PHjx3LHp6PX6/E650PRooUZNLCPbDnxCQlYWVmmW2ZlZUlcfEK25qzcfZTWDWu89VTCm5y67EdCUgotHaplW3+MjIzYstkVrVbLiJFTsq3dD41S+/dDUbVqZZo1a8SSpes+iVwlyP7m2sOHD3F1ff5OpLOzMzNmzGDgwIGsXLlS7ug30mjUlClTUrb2/f3vo9GoKVeuNPfuPQCgShX7bH/p7X0rgNCIGH4/dg6AqNgExi/dTt92TenX7u1XFXjfDMDvQRBOg34CID4xGZVKRcDjkCz3Z93ahRS0LUCbdr0N/1w/Rkrt3w+FY2MHSpUszoNAbwAsLMxRq1VUqmRHnbotP7pcJcheeF+8qQXPj4imTZvG/PnzGTBgACkpKXLHU6BAPpo2bcChQ3+SlJRM82aNcOnWgV59hsqWmZiYxH43T6ZPG8eAgeOoVrUy7dq2oJFj1k4JpOl06HR6dHo9Or1EijYVtVrF2ikDSdPpDPfrMcWVcb3b0rBaReD5EX5qmo40nR6J549TqYzIpdEwtOsX9Gv/T3Gev8UdWxsrBnRqzoY93pnu44rl86hUsTwtWnYjOTk5S+PMCrVajUajQa1WoVarMTExIS0tDd1L2yW7Zff+zYycGO+69dvZ9fsBw+2xowdRslRxhg6bKFtmTuYqsY1lP9VQvHhxfHx80i37/vvvqVatGn///bfc8UiSxKABfXj44BLhYX7Mnz+VMWOn4eFxVNbcYcMnY2qam5AnvmzftpKhwydl+VKjdfuPU+fryWx0P8mhs1eo8/Vk1u0/jrWlOfmtrQw/apUKK3NTwznby3ceUOfryQydv4GQ8GjqfD2ZQXOev2wzN82d7rG5jTWYmhiTx8Is0/0rUaIoAwf0pmpVe548vkZ0pD/Rkf50794xS+PNjCmTR5IQd5/vJwynV8/OJMTdZ8rkkbLnZuf+zYycGG9SUjKhoc8MP/EJCSQnJxMeHvlR5iqxjWWf+ic6OhojIyPy5Mnzyrp79+5Rrly5TLUnpv6Rn5j6RxDe39um/pH9VIO1tfUb12W26AqCIHwMPpnreAVBED4UovAKgiAoTBReQRAEhYnCKwiCoDBReAVBEBQmCq8gCILCROEVBEFQmCi8giAIChOFVxAEQWGyf2Q4u31KHxnOKfGnf8mRXAvHcTmSqzIyypFc/X/rT0/IpLd9ZFgc8QqCIChMFF5BEASFicIrCIKgMFF4BUEQFCYKryAIgsJE4RUEQVCYKLyCIAgKE4VXEARBYaLwCoIgKOyTKLw2Ntbs2b2emKgAAgMu4uLS4aPMBNiy2ZXHD68QGX4Hv1t/0a9v9yy1s+PPi3SfvoZa/Wcydd1+w/LAJ2F0n76GhkPm0XDIPAb8vIXAJ2GG9drUNGZu9qDpiAU0GjqP4Yt/IzQq1rD+y7GLqfPdLOoNnE29gbMZuGBr1geLctt58OBvOH/uEHGxgaxft8iwvLtLRyIj7hp+oqMC0KYEUb3657L0IyeeV8bGxqxd8wuBAReJiriLj/cRWn7RVPbcl5UrV5r42EC2bHaVPUuJ8co+2eWHYJnrbLTaVIoUq0q1qpVxP7AVX18/WafjzolMgPk/L+e7AePQarVUqFCW48f2cO3aTa5cvZGpdgpYW/Jd28acuxlIijY13fJfhnalSH5r9JLEzuPefL9qD3tmDQHg12MX8A0MYs/MwViYmvDTJg/mbT/M4uEuhjZcR3WnXuWy2TJepbZzSHAoc+e54uzsiGnu3IblO3buZ8fOf/4x9e7dhcmTR3I1k9s7o3LieaXRqAkKCsapeWcePXpCqy+bseO31VSr0YyHD4Nky33ZsqWzuXTpuiJZSoz3oz/iNTMzpVPHVkybvoCEhES8zvngcfAYvXp2/qgyX/Dz80er1QIgSSBJEmXKlsp0O81r2eNUsxLWFqbplluZm1K0gA1GRkZIkoTaSMXjsEjD+ifPoqn/WVny5bHAxDgXLet+RuCTZ+81pjdRcju7HfDE3f0IkRFRb71f715d+HX73mzPh5x7XiUmJjFj5iIePgxCkiQOHf6TB38/okaNKrLmvtC1azuiY2I5cfKsInlKjDdHCm9MTIxiWXZ2ZdDpdAQE3Dcs8/W9hb19hY8q82XLXOcQG30Pv5tnCHkahqfn8WzPaDh4LnW+m8W8Xw/zbZtGhuUdG1fnWsBjwqJiSUrRcviCLw0/L5fusZPW7KPJ8J8ZuGArdx89zXIfcno7/1uJEkVp1Kgu23/dI0v7H8p4bW3zY1e+DH5+d2XPsrS0YPq08YyfMEP2rDeRY7yyn2q4c+cOkydPRqVSMX/+fObPn8/FixextrZm9erVVKpUSdZ8C3NzYmLi0i2LiYnD0sL8o8p82fARkxk56gcc6tXE0bE+KSnabM84u2oSiSlaPM5eo3A+a8PykoXyUShfHpxHL0KtMqJcsYJMmtDKsH7OoM5UKlkYSZL47dhFBv+yDbe5w7AyN31Nytvl9Hb+t149v+LsWW/+/vuxLO1/COPVaDRs27Kcrdv2cPduoOx5P00fz6ZNOwgKCpY963XkGq/sR7yzZs1i6NCh9OrVi/79+9OmTRuuX7/OtGnTmD9/vtzxxCckYGVlmW6ZlZUlcfEJH1Xmv+n1erzO+VC0aGEGDewjS4aZiTFdmtbih3X7iYiNB2D2lkOkpKZxZvkELqyZQrOalRiy6FfDY6qXL0Fu41yYmhjzbZtGWJrl5or/oyzlfwjb+WU9e33Ftu27ZWs/p8drZGTEls2uaLVaRoycInte1aqVadasEUuWrpM963XkHK/shTchIYFmzZrRoUMHANq1aweAk5MT0dHRcsfj738fjUZNuXKlDcuqVLGX9WVSTmS+iUajpkyZkrK1r5ckkrWphEU9PxK7+/gp7RtWI4+FGca5NHRvXoeb958QFff64mBkZARk7XtpP6Tt7OBQiyKFC7Jv3yHZMnJ6vOvWLqSgbQG6dBtAWlqa7HmOjR0oVbI4DwK9CXp0lTGjB9GpYyu8L/4hezbIO17ZC+/L37PeoEGDdOv0er3c8SQmJrHfzZPp08ZhZmZKfYdatGvbgu2/yvMGSE5lAhQokI+uXdthbm6GSqWihbMjLt06cPKUV6bbStPpSNGmotNL6PQSKdpU0nQ6zt8M5PbDEHR6PfFJyfyy4whW5rkpUzg/AJVLF8XD6zpxicmkpun4/YQPBawtsbE0JyQimqsBj0hNSyNFm8rmw15ExydSrXyJLI1Xye2sVqsxMTFBrVan+/2F3r27sH//YeJlPPrMqecVwIrl86hUsTztO35NcnKy7HkA69Zvx65ifWrWbkHN2i1Yu3Ybhz1P0Kp1D9mz5R6v7Od4ixYtSnx8PBYWFsyaNcuw/OnTp5iaZv68XlYMGz6Z9esWEvLEl4iIKIYOnyT7ZV05kSlJEoMG9GHl8nmoVCoePgpizNhpeHgczXRb69zPsPrAacPtQ+d9GdTekbJFbZm3/TChUbHkNs5F5dJFWDm2FybGuQAY69KC+ds9afu9K2lpOsoWs2XxiG4AJCRrmb3lII/DojDJpaFCiUKsGNMTawuzLI9Zqe08edJIpk4dY7jds2dnZs5cxMxZizAxMeGrzm3o5jIg23P/LSeeVyVKFGXggN4kJyfz5PE1w/LBQ79nx479b37ge0pKSiYp6Z+iF5+QQHJyMuHhkW951PtTYrw5NvVPYmIiSUlJ5MuXL1OPE1P/yE9M/aMMMfXPx+1tU//k2AcozMzMMDPL+pGOIAjCf9VH/wEKQRCED40ovIIgCAoThVcQBEFhovAKgiAoTBReQRAEhYnCKwiCoDBReAVBEBQmCq8gCILCcuyTa1klPrn28Yo7KP83Xr2OZZvZOZIryE+tyrljy5TkN389qDjiFQRBUJgovIIgCAoThVcQBEFhovAKgiAoTBReQRAEhb3xayHHjx///2lZ3u7nn3/O1g4JgiB87N5YeEuWlG+eLkEQhE/ZGwvvsGHDlOyHIAjCJyPDM1BotVoePHhAVFRUugksHRwcZOmYIAjCxypDhffSpUuMGjUKrVZrmLgyISGBQoUKcfz4cbn7KAiC8FHJ0FUNc+fOpX///nh7e2Nubo63tzeDBw+mRw/5p1l+X0MGf8OF84dJiLvPhvWLFc3estmVxw+vEBl+B79bf9Gvb3fFssuVK018bCBbNrsqkmdjY82e3euJiQogMOAiLi4dstTOztPX6fHzDmqPXs7Ubf/MjhwYEkGPn3fQaMJqGk1YzcBl+wgMiTCs337yKq2nb6LB+FU4T1nPgr2nSdPpAQiJjMVh7Mp0P9WGL2Xr8Ss5Pt6sUnL/5uTfEEDXru244XuKmKgA7t72omGDOtnavrGxMatXL8Df/zzhz25z8YInX7RoYljftGkDfK+fJCrSnyNHdlGixPt/bUGGjnj//vtv+vTpk27ZgAEDaNasGd9+++17d0JOwSGhzJm7lBbOTTA1za1o9vyfl/PdgHFotVoqVCjL8WN7uHbtJleu3pA9e9nS2Vy6dF32HEOe62y02lSKFKtKtaqVcT+wFV9fv0xPPV4gjzn9v6jD+TsPSdamvbTcggXftqZIXkv0ksSuM75M3OzJ7km9AHD8rDTt6tpjZWZCTEIy4zYcYsfpa/R2qkHhvFacXzjE0NaT8BjazthCs2rlcny8Wc5XcP/m5N9Q82aNmDt7Cj16Dsbb5yqFCxfM9gyNRk1QUDDOzl149OgJX7Z04tdfV1GzljPx8Qns2rmWQYMncOjQn0yfNo7t21bS2LH9e2Vm6IjX0tKS+Ph4AAoUKMC9e/eIjY0lMTHxvcKV4Obmibv7ESIjoxTP9vPzR6vVAiBJIEkSZcqWkj23a9d2RMfEcuLkWdmzAMzMTOnUsRXTpi8gISERr3M+eBw8Rq+enTPdVrNq5XCqWpY85un/wK3MTCiazwojIyMkCVQqIx4/izGsL17AGiszEwAkJFRGRjx6Fv3aDA/v29QoV5Si+awy3T/I3vFmhdL7Nyf/hqb9OI5Zsxdz0fsKkiQRHPyU4OCn2ZqRmJjErFmLefgwCEmSOOx5nL//fkz16p/TocOX+Pn5s2/fIVJSUpg5axFVqthTwa7se2VmqPA6Oztz+vRpAL766iv69OlDp06daNmyZZZCz507l6XH/Rctc51DbPQ9/G6eIeRpGJ6e8p4Tt7S0YPq08YyfMEPWnJfZ2ZVBp9MREHDfsMzX9xb29hWyPavhhFXUHbOc+XtO8W2L2unWHb50hwbjV9Fk4lr8g8P5qsHnr23joM8d2taplOU+KDnef8uJ/ZtTVCoVNWtWoUCBfNzxO8vf9y+xdMkscueW96jb1jY/5cuX5rafP/aV7Lhx47ZhXWJiEvfvP6SSvd17ZWToVMOUKf98XV+/fv2oUqUKCQkJNGrU6J2PvXfv3ivLJk2axMaNG5EkiXLlsv5y779g+IjJjBz1Aw71auLoWJ+UFK2seT9NH8+mTTsICgqWNedlFubmxMTEpVsWExOHpYV5tmed/XkwSSmpuF/0o3De9EesrWpVpFWtijwMi+Kg9x3yWZm98vgr954QEZuIc/WsP++UHO+/5cT+zSkFCxbA2NiYTp1a08SpE6mpqezfu4kpk0cy9cf5smRqNBq2bHZl+/Y93PUPxNzCnPBnEenuExMbi6WlxfvlZObOISEhhIaGUqtWrQw/pk2bNhQpUiTdsvDwcL777juMjIw+iasi9Ho9Xud86NGjM4MG9mH5io2y5FStWplmzRpRq/YXsrT/JvEJCVhZWaZbZmVlSVx8gix5pia56NKwCk0nrWX/D73Ja5m+wJa0taFs4bzM2XWSRd+1SbfOw/s2zaqVw8zEOMv5So/3hZzavzklKSkZgBUrN/H0aRgAi5euZfIkeQqvkZERmzYuRatNZeSoqQAkxL9mX1taEhcX/15ZGSq8wcHBjBkzhjt37mBkZMTVq1f5448/+Ouvv5g9++1fIj1s2DCuX7/O9OnTKVr0+buBTk5OnDhx4r06/l+k0agpU0a+TwQ6NnagVMniPAj0BsDCwhy1WkWlSnbUqZu100IZ4e9/H41GTblypbl37wEAVarY4+d3V7ZMvSSRnJpKWHT8K4UXQKeXCAqPSbcsWZvGsasBLOrf5pX7Z0ZOjBdybv/mlOjoGB4/DkapuRrWrPkF24L5ad/+a9LSnr+x63fbn169vjLcx8zMlDJlSnL7Pd9EzdA53h9//JEmTZpw5coVNJrntbpBgwYZOlc7bNgwRo8ezdixY9mxYwdAhr4DIruo1WpMTExQq1Uv/a6WPbdAgXx07doOc3MzVCoVLZwdcenWgZOnvGTLXLd+O3YV61Ozdgtq1m7B2rXbOOx5glat5b3sLzExif1unkyfNg4zM1PqO9SiXdsWbP91b6bbStPpSUlNQ6+X0EsSKalppOn0nL/zkDuPw9Dp9cQnpbBw/xmsTHNTulBeAPadu0lk3PM3ewNDIthw1Ic6FYqna/uE7z0sTU2obVfsgxlvZuTU/s2pvyGALVt3MXRIXwoUyIe1dR5GDu/P4cN/ZnvO8mVzqFihHJ069SU5Odmw/MCBP6hsX4EOHb7ExMSEKZNHcePGbe76B75XXoaOeG/cuMHatWtRqVSGomlpaUlcXNw7Hvmcvb09W7duxdXVla+//prU1NSs9ziTpkweyY9Txxpu9+rZmRkzFzJj5iJZcyVJYtCAPqxcPg+VSsXDR0GMGTsND4+j735wFiUlJRtensHzl8TJycmEh0fKlvnCsOGTWb9uISFPfImIiGLo8ElZurRq3RFv1nheNNw+5HOHgV/WpWzhfMzffZrQ6HhyG2uwL2HLiiHtMcn1/Cl87X4wyw+eIzElFRsLU5yrl2do6/SfqvS4eJs2dSplyz/+7BpvZuTU/s2pvyGAWbOXkC9fXm7f+ovk5BR27/FgztzsvXa5RImifPddb5KTk3n08J9ru4cOm8jOnW64dB/IksUz2bzJFW+fq/TuM/S9MzM051qrVq1YsWIFpUuXpk6dOnh7e3Pv3j1Gjx6Nh4dHpgKvXbuGt7c3AwYMyFKHxZxrHy8x55qQ3T7UOdcydMTbr18/Bg0axIABA0hLS+PgwYOsWbOG7777LtOdqVatGtWqVcv04wRBED4WGSq8X331FdbW1uzatYvChQuzf/9+Ro4cSfPmzeXunyAIwkcnw5eTNW/ePF2h1Wq1/Prrr/Ts2VOWjgmCIHys3nkC5Pz582zcuNFwvW1aWhpbt26lWbNm7Ny5U/YOCoIgfGzeesS7du1aVq1aRbly5bh37x7du3fH29sbY2NjZs6cSZMmTRTqpiAIwsfjrYV3165dbNu2jc8++4xr167RvXt3vv/+e7755huFuicIgvDxeeuphqioKD777DPg+dUIxsbGfP3114p0TBAE4WP1zjfXJEky/JiYPP/aPb1eb1ivysHr5ARBEP6L3lp4ExMTsbe3N9yWJMlwW5IkjIyMuH379pseLgiCILzGWz+59uTJk3c28OKLb5QiPrkmZLe4VcpNyfQyy8E7ciRXUEaa9s31861HvEoXVUEQhE+BOEErCIKgMFF4BUEQFCYKryAIgsIyNfVPcHAwoaGhFCxY8JXpfARBEISMyVDhDQsLY8yYMVy7dg1ra2uio6OpWrUqixYtomDB7J/nXhAE4WOWoVMN06dPp2LFinh7e3P27Fm8vb2pVKkS06ZNk7t/giAIH50MHfFevnyZpUuXkitXLgDMzMyYMGFChqZ3FwRBENLL0BFvnjx5CAxMP7nb/fv3sbKykqVTgiAIH7MMHfH279+fb775hq+++ooiRYoQHBzMvn37GDlypNz9EwRB+Ohk6Ii3a9euLF68mKioKE6ePElUVBQLFy6kW7ducvfvvQ0Z/A0Xzh8mIe4+G9YvVizXxsaaPbvXExMVQGDARVxcOiiWffzYbuJjA4mO9Cc60p9bN8/InrllsyuPH14hMvwOfrf+ol9fZT6Gm13beeeVB/TYcobaCw8x9fBVw3Lf4CgG7jpPY9c/aLrsCOMOXOJZ/D8z/W6/dJ/Wa47TYIknziuOsuD4TdL+/yVSkQkpTHS/jPOKozRc4snXv57lRnDUe433hXLlShMfG8iWzdk74+7r5NTf0Atdu7bjhu8pYqICuHvbi4YN6siap8R4M3TE++DBAxwcHHBwSD9d9uXLl6lZs6YsHcsuwSGhzJm7lBbOTTA1za1Y7jLX2Wi1qRQpVpVqVSvjfmArvr5+sk8B/sKIkT+wcZNy3wUw/+flfDdgHFqtlgoVynL82B6uXbvJlas3ZM3Nru1cwCI3/euX5/yDZySn6QzLY5O1dK5akvqlC6BWGTHvz5tM87zGyi71AHAsW5B2nxXHKncuYpK0jDtwiR2XH9C7dlkSU9OoXNiasU6VyWtmwn7fRwzfe5HDA5tjZpypKzlfHffS2Vy6dP292sionPobAmjerBFzZ0+hR8/BePtcpXBh+a+iUmK8GT7i/e233wy3U1NTWbBgAcOHD5elU9nJzc0Td/cjREZmz5FGRpiZmdKpYyumTV9AQkIiXud88Dh4jF49OyvWB6X5+fmj1WoBkKTn315XpmwpWTOzczs3syuMU/nC5DE1Tre8YZmCtKhYBAuTXJjm0uBSvRTXgiIN64vbmGOV+/mbzhKgMjLiUVQCAMWszelduywFLHKjVhnxVbWSpOok/o6Mz/qgeX4EGB0Ty4mTZ9+rnYzKib+hF6b9OI5Zsxdz0fsKkiQRHPyU4OCnsmYqMd4MFd5t27axc+dOBgwYwPnz5+ncuTN3797Fzc1Nto79l9nZlUGn0xEQcN+wzNf3Fvb2FRTrw+xZk3gafIMzp9xwbOzw7gdkg2Wuc4iNvoffzTOEPA3D0/O4rHk5sZ0vB0VSNr9lumWH/YJosMSTJsuO4B8Wy1fVSr72sXdCY0jV6SluY57lfEtLC6ZPG8/4CTOy3MZ/hUqlombNKhQokI87fmf5+/4lli6ZRe7cyh51yyFDhbdixYrs3r2bkJAQ+vXrx+eff8769euxtbV952O9vLwMv8fFxTF+/HiaN2/O8OHDCQ8Pz3rPP2AW5ubExMSlWxYTE4elRdb/4DJj0uQ5lK/gQIlSNVm34Vfc9m+mTJnXF4PsNHzEZKzz2uHYpANubp6kpGhlzVN6O/uHxbL2nD+jm9inW97Kvhheo77kQP+mfFWtJPnMTF55bHxKKj8cusrABnZYmuTKch9+mj6eTZt2EBQUnOU2/isKFiyAsbExnTq1polTJ2rWdqZ6tc+YMvm//6Z+hgpvaGgoAwcOJFeuXEyZMoXjx4+zaNEi0tLS3vnYX375xfD74sWLMTc3Z+XKlZQpU4ZZs2ZlvecfsPiEBKys0h8VWVlZEhefoEi+t89V4uMT0Gq1bNu2m3PnfPiypZMi2Xq9Hq9zPhQtWphBA/vImqXkdn4UlcDQPReZ0KwyNYrne+19Sua1oGx+S+YcS39eOzlVx8i93nxexIZv65XPch+qVq1Ms2aNWLJ0XZbb+C9JSnr+JuaKlZt4+jSMiIgoFi9dS0uFnstyytAZ/vbt2+Pi4sKwYcPQaDQ4OzszadIkOnfuzIEDB9762Je/Z/3y5cvs2bOHXLlyYWdnR9u2bd+v9x8of//7aDRqypUrzb17DwCoUsUeP7+7OdKfF7OFKEmjUct+lK3Udg6OSWTgrvMMcChPm8rF33pfnV4iKDrRcFubpmP0fh8KWJoy9Ysq79UPx8YOlCpZnAeB3gBYWJijVquoVMmOOnVbvlfbH6Lo6BgePw7mLXM1/Gdl6Ih31apVjBo1Co3meZ0uWLAgGzdupHPnd7+JodVqCQwM5N69exgZGRk+/QbKzNemVqsxMTFBrVa99Lta1szExCT2u3kyfdo4zMxMqe9Qi3ZtW7D9172y5gLkyWNFC2dHwzi7d+9Io0b1OHrstGyZBQrko2vXdpibm6FSqWjh7IhLtw6cPOX17ge/h+zczml6PSlpOvR6Cb1eIiVNR5peT2hcEgN2nadb9VJ0qV7qlcftu/6QyIQUAALD49hwIYA6JfMDkKrTM+7AZUw0Kma1robqPf/5rVu/HbuK9alZuwU1a7dg7dptHPY8QavWPd6r3XfJib+hF7Zs3cXQIX0pUCAf1tZ5GDm8P4cP/ylrphLjzdARb/Xq1V+7vE+fd7+UTE5OZsCAAYb/Wi++3Sw+Pl6Rwjtl8kh+nDrWcLtXz87MmLmQGTMXyZo7bPhk1q9bSMgTXyIiohg6fJIil5LlyqXhp58mULFCOXQ6HXfvBtL5q374+we++8FZJEkSgwb0YeXyeahUKh4+CmLM2Gl4eByVLfOF7NrO684FsObcP4875PeEgfXtMDKCoOhE1pzzT7f+/OhWAFx7EsXyv+6QmKrDxtQY5wpFGNro+Zt7159EciYwlNwaFY2W/mF47Iqv6r7xdMXbJCUlG15+w/NTLcnJyYSHR77lUe8vp/6GAGbNXkK+fHm5fesvkpNT2L3Hgzlz5b12WYnxvnHOtW+//ZYNGzYA0KNHjze+VP3111+zFJyUlER4eDjFi7/9pdu/iTnXhOwm5lwT5JClOdc6dOhg+L1Lly7Z2iEAU1PTTBddQRCEj8EbC+/Lb3x17NhRkc4IgiB8Ct56kvXfl3vt3r073e3/wifXBEEQPjRvLbz79u1Ld3vBggXpbr/84QhBEAQhY95aeP/9vtvHeD2dIAiC0t5aeP99JYPSF+ELgiB8jN56Ha9Op+PChQuGI920tLR0t/X//95RQRAEIePeeB0vgJPTuz8TfeLEiWzt0LuI63iF7Cau4xXkkKXreEH5oioIgvApeOsR74dIHPEK2S2n3rmI3Tf23XfKZpadFiqeCTm3jXOyuL3tiFf+L0sQBEEQ0hGFVxAEQWGi8AqCIChMFF5BEASFicIrCIKgMFF4BUEQFCYKryAIgsJE4RUEQVCYKLyCIAgKE4VXEARBYR994TU2Nmbtml8IDLhIVMRdfLyP0PKLpopkb9nsyuOHV4gMv4Pfrb/o11f+L2OxsbFmz+71xEQFEBhwEReXDrJn5lRuTu7bkiWL4X5gK2Ght3j86CpLl8zK0hTgO8/epMfivdSesI6pO04algc+jaLH4r00+mETjX7YxMDVBwl8GmVY73PvCf1XetBwyia+nPX6CWd/PXODVrN/o96kDXScv4uHz6Iz3b8Xcup5lV3bObPkHm+Gpnf/L9No1AQFBePUvDOPHj2h1ZfN2PHbaqrVaMbDh0GyZs//eTnfDRiHVqulQoWyHD+2h2vXbnLl6g3ZMpe5zkarTaVIsapUq1oZ9wNb8fX1k31q+ZzIzcl9u8x1Ds+eRVC8RA2sra34w3MHgwd9zfIVGzPVTgErM/o3r8H5u0Ekp6b9szyPGQu+bkERGwv0ksQur1tM3P4nu8c9n3g2t3EuOtSpQHJqWTYcv/pKu/su3MbN+w7Lvv2SMgWtCYqIxcrM5D3Gm1PPq+zZzpnPlXe8H/0Rb2JiEjNmLuLhwyAkSeLQ4T958PcjatSoInu2n58/Wq0WAEl6PoNHmbKlZMszMzOlU8dWTJu+gISERLzO+eBx8Bi9enaWLTMnc3Ny35YqXYLdezxISUkhNPQZR46cwt6+QqbbaValDE6flyaPefqiaGVqQtG8lhgZGSFJoDIy4nF4rGH95yVsaVPLjmL5rF5pU6+XWHP0MuPaOVC2kA1GRkYUz5+HPGa5Mz9Qcm7/QvZt58xQYryKF96EhARu3bpFfHy80tEA2Nrmx658Gfz87iqSt8x1DrHR9/C7eYaQp2F4eh6XLcvOrgw6nY6AgPuGZb6+t2R/ouZU7r8puW+XL9tAt67tMTXNTZEihfiiZVOOHD357gdmUsMpm6g7cT3z3bz4tln1DD0mNCae0JgE7j2N4osZ22k1+zdW/uGDXp+17+rKyf2r1HZ+mRLjlb3w/vjjj0RGRgJw+fJlnJ2dmTBhAs7Ozpw9e1bu+HQ0Gg3btixn67Y93L0bqEjm8BGTsc5rh2OTDri5eZKSopUty8LcnJiYuHTLYmLisLQwly0zJ3NfpvS+PfPXeezt7YiMuMvDvy9z5bIvBw78ke05Z2f35eysvkzs2JAKRfNl6DGh0QkAnPcPYvf4Lqwb3JY/rgay3/tOlvqQk/tXqe38MiXGK3vhvXbtGnnz5gVg6dKlrF69mkOHDvHbb7+xaNEiueMNjIyM2LLZFa1Wy4iRUxTLhedTJHmd86Fo0cIMGthHtpz4hASsrCzTLbOysiQuPkG2zJzMfUHpfWtkZMShg7+x382TPNblKVjoM6xt8jB3rjzZpia56OJgz9QdJ4mMS3rn/XPnev7WzTdNqxpOWXzlUImztx9lKT+n9q/S2/kFJcYre+FNSUkx/J6QkECVKs/Pv5UuXZrU1FS54w3WrV1IQdsCdOk2gLS0tHc/QAYajZoyZUrK1r6//300GjXlypU2LKtSxV72l945lfuC0vs2b15rSpQoysqVm9BqtURGRrFlyy5atnz3VFlZpZckkrVphMW8+4+/pG0ecqlV2fbl4zm1f3NiO4My45W98Do4ODBv3jySkpKoW7cuhw8fBsDLywtra2u54wFYsXwelSqWp33Hr0lOTlYks0CBfHTt2g5zczNUKhUtnB1x6daBk6e8ZMtMTExiv5sn06eNw8zMlPoOtWjXtgXbf90rW2ZO5kLO7NuIiCju33/IwIF9UKvV5MljRe/eXbjh65fpttJ0elJS09DrJfSSREpqGmk6PefvBnEnKBydXk98spaF7uexMjOhdEFr4PkbaC/uC5CSmkZqmg4AU+NcfFGtLJtPXichWUtodDz7LtyhsX3W/unn1P7Nzu2cGUqMV/apf7RaLT///DMHDhzA2tqax48fo9FoqFu3LtOnT6d48eKZai+zU/+UKFGU+/e8SU5OJu3/T0yAwUO/Z8eO/ZlqKzPy58/L7zvXUqWKPSqVioePgli+fCMbNv4mWyY8v/5w/bqFNG/WmIiIKCb/MIedO91kzcyp3Ozat1k5MqxatTILf5lOlSr26HR6Tp0+x4gRk3n2LCLDbcTuG8uqI5dYc/RyuuUDW9SkbCEbVnpeIjQmnty5NNgXL8DI1nWxK/L8PK/PvWC+W+WR7nE1yxZmw5B2AMQna5m5+wx/3X6EZW5jOtWrxADnGlh1ztrpvffdv1k9+n7f7ZzV4pYdz+e3Tf2j2JxriYmJPHr0CJ1OR5EiRbCxsclSO2LONSG7iTnX5CfmXEtPsQ9QmJmZUbFiRaXiBEEQPlgf/QcoBEEQPjSi8AqCIChMFF5BEASFicIrCIKgMFF4BUEQFCYKryAIgsJE4RUEQVCYKLyCIAgKU+yTa9nlU/rk2qf4aR9BXgnXt+dIrkXVXjmSm5NS3/LJNXHEKwiCoDBReAVBEBQmCq8gCILCROEVBEFQmCi8giAIChOFVxAEQWGi8AqCIChMFF5BEASFicIrCIKgMFF4BUEQFPbRF94hg7/hwvnDJMTdZ8P6xYpmb9nsyuOHV4gMv4Pfrb/o17e77JkVK5bj6JHfCX92m9t+Z2nfvqXsmZAzY4Xns8Hu2b2emKgAAgMu4uLSQeRmwI5DJ3EZO4eaXw3jh6WbX3ufVTsPUqXDIC5cv21YtnKHBzU6D6Guy0jDT9DTZ4b13/6wCMc+43DoPoqvRs3k5MVrWeofQFSkf7qf5KRHLFk8M8vtfUi5ik12mVOCQ0KZM3cpLZybYGqaW9Hs+T8v57sB49BqtVSoUJbjx/Zw7dpNrly9IUueWq1m795NrFu7jZZfutC4sQNu+zdTu84XBATclyXzBaXH+sIy19lotakUKVaValUr435gK76+fvj5+YvctyiQ15oBXVrhdc2PlBTtK+sfhzzj2LkrFLDJ88q6LxrWYu7ofq9t9/v+XSlTvDAatRpf/wcM+HEJHitnZKpvL9jktTP8bmZmypOg6+zZezBLbX1ouR/9Ea+bmyfu7keIjIxSPNvPzx+t9vmTWpJAkiTKlC0lW17FiuUoUrggS5auRa/Xc+qUF+fO+dCzZ2fZMl9Qeqzw/I+iU8dWTJu+gISERLzO+eBx8Bi9ZB7vx5Db3KE6TvWqYW1p/tr1c9btZHSfjuTSqDPVrl2pYmjUzx9jBKTpdDwNj8x0//6tc+c2hIWFc/bsxfdu60PIlb3w1q1bl1mzZnH79u133/kjtMx1DrHR9/C7eYaQp2F4eh6XLcvI6NXvMzMyMqJy5QqyZb5MybEC2NmVQafTpTua9/W9hb29vOP92HOPel0ml0ZNo1qfv3b9aR9fGvYaQ8fhP7HL8/Qr64fNWkGtLsPoOWE+tT6zo3K5ku/dp969urD91z3v3c6Hkit74TU3N0elUtGvXz86duzI9u3biYmJkTv2gzF8xGSs89rh2KQDbm6er31Zl13u3LlHWFg4Y8cORqPR0Lx5Yxo3roeZqalsmS9TcqwAFubmxMTEpVsWExOHpcXrj+JE7rslJiXjut2NCd92fe36LxrWxG35dE5v+YVpQ3ux5vdDHD7jk+4+y38YyvkdS1kxdRgNqtujUr1fmSlevAiNG9dj27bd79XOh5Qre+HNkycPkydP5syZMwwcOJAzZ87QpEkTRo8ejZeXl9zxHwS9Xo/XOR+KFi3MoIF9ZMtJS0vjqy7f0urLZgQ9vsboUQPZs8eDJ09CZMv8N6XGChCfkICVlWW6ZVZWlsTFJ4jcLFq54yBtmtSjWMH8r11ftngRbPNao1arqFaxLD3bOHHs3JVX7pdLo6ZRzc/wuurHSe/r79WnXr264OXlzd9/P36vdj6kXMXO8ebKlYuWLVuydu1ajhw5QoUKFZg5U/53KD8kGo2aMmXe/2XX29y4cZtmzb+iUOHPaN2mJ6VLl8TH55qsma+jxFj9/e+j0agpV660YVmVKvb4+d0VuVl00fcOvx08QdNvJtD0mwk8jYhi3IJ1bNx35LX3f356681fna/T6dNd9ZAVvXp9pfjRrty5shfe101wYWtry6BBg/jjjz/kjketVmNiYoJarXrp98y9YZAVBQrko2vXdpibm6FSqWjh7IhLtw6cPCXvUf7nn1fCxMQEU9PcjB49kEKFbNmy9XdZM3NqrImJSex382T6tHGYmZlS36EW7dq2YPuve0XuO6TpdKRoU9Hr9ej1EinaVNJ0OtbNGMU+1x/ZvXgKuxdPoYCNNT8O7onLl44AnLx4jdj4BCRJ4ob/A347eIImdaoC8CDoKX9dvklyipbUNB0HT13ksl8ANSvbva0rb+VQrxZFixRS5GoGJXNlv5xsxYoVcke81ZTJI/lx6ljD7V49OzNj5kJmzFwka64kSQwa0IeVy+ehUql4+CiIMWOn4eFxVNbcnj06069fd3LlysXZsxf5slV3w9UGcsmpsQIMGz6Z9esWEvLEl4iIKIYOnyT7JV0fQ+7a3w+zetchw+2Dpy8yqFtrhnRvm+5+apURVhZmmP3/UkzPs5f4cfk2tKlpFMxnTd9OX9DeyQF4/jxYtfMg4x+HoFapKFHElgXj+mNftkSWx9u7dxfc3DyJl/k0jtK5Ys61D5iYc03IbmLONeWIOdcEQRA+IKLwCoIgKEwUXkEQBIWJwisIgqAwUXgFQRAUJgqvIAiCwkThFQRBUJgovIIgCAoThVcQBEFh4pNrH7Cc+uRaTvlPPRGFTInbPz5Hci07LsiRXIA08ck1QRCED4covIIgCAoThVcQBEFhovAKgiAoTBReQRAEhYnCKwiCoDBReAVBEBQmCq8gCILCROEVBEFQmCi8giAICvtkCm/Xru244XuKmKgA7t72omGDOrLmDRn8DRfOHyYh7j4b1i+WPSf+Xzm5cuVi5861BPhfIFX7hMaNHRTJBWjatCE3bpwmJvoex47upkQJ+T7mvWWzK48fXiEy/A5+t/6iX9/usmW97Pix3cTHBhId6U90pD+3bp5RJNfGxpo9u9cTExVAYMBFXFw6KJKbXdt551836LFoD7XHr2HqjhOG5YFPI+mxaA+Npmyg0ZQNDFzlTuDTSMP6zSeu0vnnndSftJ5Ws7az+cTVdO2u8PTmq593UXPcalb94ZO1Qb5E7v0r+/TuH4LmzRoxd/YUevQcjLfPVQoXLih7ZnBIKHPmLqWFcxNM/z81ttI557y8Wea6jh071iiWmy+fDbt/X8fAQeM5ePAYP00fz2+/rqZho7ZvaS3r5v+8nO8GjEOr1VKhQlmOH9vDtWs3uXL1hix5Lxsx8gc2btohe87LlrnORqtNpUixqlSrWhn3A1vx9fWTfWr57NrOBfKY09+5JufvPiI5VZdu+YJvWlDExhK9JLHr7E0mbjvG7vHdgOff4zGrRzPKF85HUEQMg9ccpJCNBS2rlwegeH4rRrWtx55zftk2Zjn3r+JHvElJSdy8eZPY2FjFMqf9OI5Zsxdz0fsKkiQRHPyU4OCnsma6uXni7n6EyMgoRXIi/pWTmpqK67L1eJ3zQafTK5bbsUMr/Pz82bv3ICkpKcyYuZAqVSpRoULZbO8DgJ+fP1qtFgBJAkmSKFO2lCxZOc3MzJROHVsxbfoCEhIS8Trng8fBY/Tq2Vn27Ozazs2qlMHp89LkMUt/kGBlakLRvFYYGRkhSaBSqXgc/k+N6OtUnUrFCqBRqyhla0OTyqW59uCfv+F2tSvSsFJJzExyZW2ACpO98B47dowaNWrQsmVLrl+/TqtWrZgwYQLOzs6cOHHi3Q28J5VKRc2aVShQIB93/M7y9/1LLF0yi9y55TsK/ZTZ29vh6/vPUUdiYhKB9x9ib19BtsxlrnOIjb6H380zhDwNw9PzuGxZL5s9axJPg29w5pQbjtl8Kud17OzKoNPpCAi4b1jm63tL1m37MiW2c8PJG6j7/Vrm7/+Lb5vXeO19JEniyoMQyhbKm+35L5Nz/8p+qmH58uXs2LGD2NhYBgwYwKpVq6hRowaBgYGMHTsWJycnWfMLFiyAsbExnTq1polTJ1JTU9m/dxNTJo9k6o/zZc3+FFlYmPMsPCLdstiYOCwtLGTLHD5iMiNH/YBDvZo4OtYnJUUrW9YLkybPwe+2P1ptKt26tcdt/2Zq1m7B/fsPZcu0MDcnJiYu3bKYmDgsLcxly3yZEtv57JxvSUpJxf3SXQrbWL72PquO+CDpJdrXqZjt+S/IvX9lP+I1MjKiQoUK1K5dG3Nzc2rUeP5frGxZeV56/ltSUjIAK1Zu4unTMCIioli8dC0tW8pb8D9V8fEJWFmm/4OxsrIgLj5e1ly9Xo/XOR+KFi3MoIF9ZM0C8Pa5Snx8Alqtlm3bdnPunA9fyvycik9IwMrq39vWkrj4BFlzX6bEdjY1yUUXh8pM/e04kXGJ6dbt/OsGBy/5s+y7Vhhr1LLkg/z7V5HCGxgYyNWrV0lMTOTatWsAPHjwAJ1O9/YHZ4Po6BgePw7mP/Z97/9Zfn7+VKlib7htZmZKmTKl8PO7q0i+RqOmTJmSimS9TJIkjIzk/ep6f//7aDRqypUrbVhWpYq9Ytv2ZXJvZ70kkaxNIyzmn38qbhdvs/HEVdYObkdBa/leQb1Odu9f2QvviBEj6N69O4MHD2bx4sUsXbqUNm3a0KVLFwYOHCh3PABbtu5i6JC+FCiQD2vrPIwc3p/Dh/+UNVOtVmNiYoJarXrp9+z/D/22HGNjY0xMTP7/ey7D73Lmuh3wpHLlCnTs2AoTExN++GE0N27c5u7dwGzLfqFAgXx07doOc3MzVCoVLZwdcenWgZOnvLI962V58ljRwtnRMObu3TvSqFE9jh47LWtuYmIS+908mT5tHGZmptR3qEW7ti3Y/uteWXOzczun6fSkpKah10vo9RIpqWmk6fScv/uYO0HP0On1xCdrWXjgHFZmJpQuaAPAocv+LDt8kdWD2lIsn9Ur7abqdM/blSR0+ucZOn3W3lRWYv8qPvWPTqfj9u3bFCpUiPz582f68VmZ+kej0bB40Qy6u3QgOTmF3Xs8mDhpNikpKZluK6N+nDqGH6eOTbdsxsyFzJi5KMNtZOT/69Q35MycuYgA/wuUKlU83bpy5evy8GFQhvuQlVwnp0YsXTqLkiWK4u19lW/7j85QZmafiPnz5+X3nWupUsUelUrFw0dBLF++kQ0bf8tkS5nP9XDfRsUK5dDpdNy9G8i06T/z5/G/ZM2F59fxrl+3kObNGhMREcXkH+awc6ebrJnZsZ1fTP2z6g8f1hy9lG7dwBa1KFsoLyv/8CY0Op7cuTTYF7dlZJt62BXJB0CrWdsJi04gl+afY8XWNe34oYsjAFN3nMDDJ/2R/08uTek11yNL482O/fu2qX/EnGsfMDHnmvCxEHOupffJfHJNEAThQyEKryAIgsJE4RUEQVCYKLyCIAgKE4VXEARBYaLwCoIgKEwUXkEQBIWJwisIgqAwUXgFQRAU9knMQPFf9al9kiunPqn3qW3nnGCVQ58gizs6M0dy30Uc8QqCIChMFF5BEASFicIrCIKgMFF4BUEQFCYKryAIgsJE4RUEQVCYKLyCIAgKE4VXEARBYaLwCoIgKEwUXkEQBIV9EoV3y2ZXHj+8QmT4Hfxu/UW/vt1lzzQ2Nmbtml8IDLhIVMRdfLyP0PKLprLn2thYs2f3emKiAggMuIiLSwfZMwGOH9tNfGwg0ZH+REf6c+vmGdkzoyL90/0kJz1iyWJlPyJarlxp4mMD2bLZVZG8nNq/AF27tuOG7yliogK4e9uLhg3qZHvGkMHfcOH8YeLj7rNh/WLD8ly5crFz51oC/C+Qqn1C48YOmWp358nL9Ji9hdpDf2Hq5kOG5YHB4fSYvYVGo5fQaPQSBi7eSWBweLrH3n70lH4LfsVhxCKcxi3j1+P/zJK84sAZvvppAzUH/8wqj7MZ7s8n8V0N839ezncDxqHVaqlQoSzHj+3h2rWbXLl6Q7ZMjUZNUFAwTs078+jRE1p92Ywdv62mWo1m2TK9+pssc52NVptKkWJVqVa1Mu4HtuLr64efn79smS+MGPkDGzftkD3nBZu8dobfzcxMeRJ0nT17DyqWD7Bs6WwuXbquXF4O7d/mzRoxd/YUevQcjLfPVQoXLihLTnBIKHPmLqWFcxNMTXOnW3fOy5tlruvYsWNNptstkMeC/q0dOH/rAcmpaf8st7ZgwcAOFMlnhV6S2HXqChPXu7P7x34ARMUnMsR1N+O6OOFcowKpOh2hUXGGxxe3tWFU5ybsOXMtU/1R7Ig3Ojqa27dvExAQQHJyslKxAPj5+aPVagGQJJAkiTJlS8mamZiYxIyZi3j4MAhJkjh0+E8e/P2IGjWqyJZpZmZKp46tmDZ9AQkJiXid88Hj4DF69ewsW+aHonPnNoSFhXP27EXFMrt2bUd0TCwnTmb8SOd95OT+nfbjOGbNXsxF7ytIkkRw8FOCg59me46bmyfu7keIiIxKtzw1NRXXZevxOueDTqfPdLvNalTAqZodecxN0y23MstN0fx5MDIyQpJAZaTicdg/2duO+VDfvjSt61bGOJcG89wmlCmc37C+ncPnNPysLGYmxpnqj+yF98mTJ/Tv35969erRqVMnevXqRd26dZk3b56hGCphmescYqPv4XfzDCFPw/D0PK5YNoCtbX7sypfBz++ubBl2dmXQ6XQEBNw3LPP1vYW9fQXZMl82e9Ykngbf4MwpNxwz+VLwffXu1YXtv+5RLM/S0oLp08YzfsIMxTJzav+qVCpq1qxCgQL5uON3lr/vX2Lpklnkzp373Q/+j2g4agl1h/3C/F3H+PbLf567Nx4EY2Wemz7zt9F03DJGLN9DSGTse+fJXngnTpxIu3btuHjxIpMnT6Znz56cOHGCuLg45s6dK3e8wfARk7HOa4djkw64uXmSkqJc0ddoNGzbspyt2/Zw926gbDkW5ubExMSlWxYTE4elhblsmS9MmjyH8hUcKFGqJus2/Irb/s2UKVNS9lyA4sWL0LhxPbZt261IHsBP08ezadMOgoKCFcvMqf1bsGABjI2N6dSpNU2cOlGztjPVq33GlMkjZc1V0tklozi7ZBQTXZypUOKf0yihUXF4nL/JhG7N+WPuYIrmt2bievf3zpO98MbExNCuXTvy5MlD7969OXPmDPny5WPmzJl4eXnJHZ+OXq/H65wPRYsWZtDAPopkGhkZsWWzK1qtlhEjp8iaFZ+QgJWVZbplVlaWxMUnyJoL4O1zlfj4BLRaLdu27ebcOR++bOkkey5Ar15d8PLy5u+/HyuSV7VqZZo1a8SSpesUyXshp/ZvUtLzU4MrVm7i6dMwIiKiWLx0LS0V2r9KMTUxpkvj6kzddJDI2OfbNLexBqdq5fmsVGFMcmkY2KYB1wOfEJeU8l5Zsr+5ptFoePToESVKlODmzZsYGz8/F6JSqdBocua9PY1GrdjR2Lq1CyloW4A27XqTlpb27ge8B3//+2g0asqVK829ew8AqFLFXtbTG28iSRJGRsp8tXmvXl+x4OflimQBODZ2oFTJ4jwI9AbAwsIctVpFpUp21KnbUrbcnNq/0dExPH4cjCR9/F8Zr5ckkrVphEXHk9fKnPJFbdM9j1/8+r7bQvYj3hEjRtC1a1fatm1L//79GT58OADh4eHUqFFD7ngKFMhH167tMDc3Q6VS0cLZEZduHTh5Sv6j7RXL51GpYnnad/xakTcUExOT2O/myfRp4zAzM6W+Qy3atW3B9l/3ypqbJ48VLZwdMTExQa1W0717Rxo1qsfRY6dlzQVwqFeLokUKKXo1w7r127GrWJ+atVtQs3YL1q7dxmHPE7Rq3UPW3JzavwBbtu5i6JC+FCiQD2vrPIwc3p/Dh//M9hy1Wv3/55Hqpd/VwPNLNE1MTP7/ey7D7xmRptOTkpqGXpLQ6yVSUtNI0+k57/eAO49C0en1xCelsHD3CazMclO6cD4A2tf/nBPX/LnzOJRUnY61h85RvVwxrMyen99O1ekM7er+n6HTv/vNPyNJgX9jsbGxPHz4kNKlS2NhYfFebWmMi2bq/vnz5+X3nWupUsUelUrFw0dBLF++kQ0bf3uvfrxLiRJFuX/Pm+TkZNLSdIblg4d+z44d+2XLtbGxZv26hTRv1piIiCgm/zCHnTvdZMuD59vYw30bFSuUQ6fTcfduINOm/8yfx//KVDtZOT5euWI+ZmamfNN3RBYe/dz7/gH8OHUMZcuW4utvst6HjMqJ/QvPX7kuXjSD7i4dSE5OYfceDyZOmk1KSsZecmd0306dOoYfp45Nt2zGzIXMnLmIAP8LlCpVPN26cuXrvvXyzNj/T/2zyuMsaw6mP9ga2KYBZYvkZ+WBvwiNjiN3Lg32pQozsqMjdsVsDff7/fRV1h0+R7I2leplizG5RwsK5bV63t/Nh/A4fzNduz993Yr29T/HtEm/N/ZLkcKbnTJbeIX/DjHn2scrp/ZtbA7Oufa2wvtJfHJNEAThQyIKryAIgsJE4RUEQVCYKLyCIAgKE4VXEARBYaLwCoIgKEwUXkEQBIWJwisIgqAwUXgFQRAU9p/75JogCMJ/nTjiFQRBUJgovIIgCAoThVcQBEFhovAKgiAoTBReQRAEhYnCKwiCoDBReAVBEBQmCq8gCILCROEVBEFQmCi8giAICtPkdAeU8ODBAyZOnEh0dDTW1tbMnz+fUqVKyZo5f/58jhw5wpMnT/Dw8MDOzk7WvBeioqKYMGECjx49wtjYmJIlSzJjxgzy5s0re/aQIUMICgpCpVJhZmbG1KlTqVSpkuy5AMuXL2fZsmWKbWsnJ6d0042PGzeORo0ayZ6bkpLCnDlzOH/+PCYmJlSrVo2ZM+Wd0DEoKIihQ4cabsfFxREfH4+3t7esuQAnT55k6dKlSJKEXq9n+PDhtGjRQvbcU6dOsXTpUtLS0siTJw9z586lePHi735gRkmfgN69e0tubm6SJEmSm5ub1Lt3b9kzfXx8pODgYKlp06bS3bt3Zc97ISoqSrpw4YLh9rx586RJkyYpkh0bG2v4/dixY1KHDh0Uyb1586b07bffSk2aNFFsWyu9X1+YOXOmNHv2bEmv10uSJEnPnj1TvA+zZs2SfvrpJ9lz9Hq9VKtWLcN2vn37tlStWjVJp9PJmhsdHS3VqVNHun//viRJz2tGv379sjXjoz/VEBERgZ+fH23atAGgTZs2+Pn5ERkZKWturVq1KFy4sKwZr2NtbU3dunUNt6tVq0ZwcLAi2ZaWlobf4+PjMTKSf1JvrVbLjBkzmDZtmiJ5OSkhIQE3NzdGjhxpGGv+/PkV7YNWq8XDw4POnTsrkqdSqYiLiwOeH2nb2tqiUslbth4+fEj+/PkpXbo0AI6Ojpw9ezZba8ZHf6ohJCSEggULolarAVCr1dja2hISEqLIy++cpNfr2bFjB05OToplTpkyBS8vLyRJYv369bLnLV26lHbt2mXvy8AMGjduHJIkUbNmTcaMGYOVlZWseY8fP8ba2prly5dz8eJFzM3NGTlyJLVq1ZI192UnTpygYMGCVK5cWfYsIyMjlixZwpAhQzAzMyMhIYE1a9bInlu6dGnCw8Px9fWlSpUqeHh4AGRrzfjoj3g/ZTNnzsTMzIxevXopljl79mxOnTrF6NGj+fnnn2XNunr1Kjdu3KBHjx6y5rzOr7/+iru7O3v37kWSJGbMmCF7ZlpaGo8fP8be3p59+/Yxbtw4hg8fTnx8vOzZL+zdu1exo920tDTWrFnDypUrOXnyJKtWrWL06NEkJCTImmtpacnixYuZO3cunTp1IiIiAisrKzSa7DtO/egLb+HChQkNDUWn0wGg0+kICwvLkdMASpo/fz4PHz5kyZIlsr80e50OHTpw8eJFoqKiZMvw8fHh/v37NGvWDCcnJ54+fcq3337L2bNnZct84cXzx9jYmB49enDlyhXZM4sUKYJGozGcNqtatSo2NjY8ePBA9myA0NBQfHx8aNu2rSJ5t2/fJiwsjJo1awJQs2ZNTE1NCQwMlD27fv367Nixg3379tGrVy+Sk5Oz9VXVR1948+XLR6VKlTh48CAABw8epFKlSh/1aYbFixdz8+ZNVqxYgbGxsSKZCQkJhISEGG6fOHGCPHnyYG1tLVvmgAEDOHv2LCdOnODEiRMUKlSIDRs20LBhQ9kyARITEw3nHSVJ4vDhw4pcvZE3b17q1q2Ll5cX8PxqnYiICEqWLCl7NsD+/ftxdHTExsZGkbxChQrx9OlT7t+/D0BgYCDh4eGUKFFC9uxnz54Bz0/XLVq0CBcXF8zMzLKt/U9iBorAwEAmTpxIbGwsVlZWzJ8/nzJlysiaOWvWLI4ePUp4eDg2NjZYW1tz6NAhWTMBAgICaNOmDaVKlSJ37twAFCtWjBUrVsiaGx4ezpAhQ0hKSkKlUpEnTx6+//57Rc4FvuDk5MTq1atlv5zs8ePHDB8+HJ1Oh16vp2zZsvzwww/Y2trKmvsie/LkyURHR6PRaBg1ahSOjo6y5wJ88cUXTJkyhcaNGyuSB+Du7s66desMbyaOGDGC5s2by547ZcoUrly5QmpqKg0aNGDy5MmGSwezwydReAVBED4kH/2pBkEQhA+NKLyCIAgKE4VXEARBYaLwCoIgKEwUXkEQBIWJwit8MNzd3enXr19OdyPLqlevzuPHj3O6G8J/gLicTFCUk5MT4eHhhu/OAOjYsSM//vijLHlBQUE0a9bMcPG7jY0NLi4uDBgwQJa8d7l48SLjx4/nzJkzOZIvfBg++i/JET48q1evpn79+opm+vj4oNFouHr1Kt988w0VK1Z85YMAaWlp2fp5fEF4E3GqQfhg7Nu3j+7duwNw5coV6tata/gY8p07d6hVq5bhc/q///47zs7O1KlTh0GDBhEaGpqhjOrVq1OuXDkCAgK4ePEijRs3Zu3atTRo0IBJkyah1+tZu3YtzZs3p27duowcOZLo6GgAvv32W7Zv356uvXbt2nH06FEAKlSowMOHDwE4ffo0rVq1onr16jRq1IgNGzaQmJjId999R1hYGNWrV6d69eqEhoai1WqZPXs2DRs2pGHDhsyePRutVvve21P4cInCK3yQatSogYuLC99//z3JycmMHz+eUaNGUbZsWc6fP8/ChQtZsmQJZ8+epWjRoowZM+adbUqSxOXLl7l37x729vbA8486x8TEcPLkSWbOnMnWrVv5888/2b59O3/99Rd58uQxfPNY27ZtDd/5AXDv3j2Cg4Np0qTJK1lTpkxhxowZXL16lYMHD1KvXj3MzMxYt24dtra2XL16latXr1KwYEFWrVrF9evXOXDgAO7u7ty4cYOVK1dmz4YUPkii8AqKGzp0KLVq1TL8/P7776+937Bhw4iPj6dLly7Y2trSs2dPAMMXcVeuXBljY2PGjBnDtWvXCAoKemNmvXr1qFOnDj/88ANjx47FwcEBeP5F2yNGjMDY2JjcuXOza9cuRo8eTaFChTA2NmbYsGEcOXKEtLQ0mjdvzp07d3jy5ImhH87Ozq/9IiKNRsO9e/eIj48nT548b/3OCg8PD4YOHUq+fPnImzcvQ4cOxd3dPcPbU/jvESe0BMWtWLEiQ+d4c+XKRceOHZk1axYTJ040fFFKWFhYukJmbm6OtbU1oaGhFCtW7LVtXbhw4bXnb21sbNJ9+UlwcDBDhw5N91WaKpWKiIgIChYsiKOjI4cOHWLAgAEcOnTojfOdubq6smrVKhYuXEiFChUYO3Ys1atXf+19w8LCKFKkiOF2kSJFCAsLe8uWEf7rxBGv8MEKDQ1l+fLldOrUiXnz5hnOe9ra2hqOOuH51zRGR0dTsGDBTGf8e7qgQoUKsW7dOi5dumT4uXHjhqHtNm3acOjQIa5evUpycnK6aZZeVqVKFVatWsW5c+do3rw5o0aNem3ei/G8PD1TSEiIIt90JuQcUXiFD5IkSUycOJGvvvqKOXPmYGtry5IlS4Dn51r37dvH7du30Wq1LFq0iCpVqrzxaDczunfvzpIlSwyFPTIykj///NOw3tHRkeDgYFxdXWnVqtVrv2Req9Xi7u5OXFwcuXLlwtzc3HD5XL58+YiOjjZ8ny9A69atWbVqFZGRkURGRrJixQrFvmxcyBniVIOguEGDBqW7jrd+/fqvfF/w1q1bCQ8PN0zsOGfOHNq3b4+TkxMODg6MHDmS4cOHExsbS/Xq1Vm8eHG29K1Pnz5IkkS/fv0ICwsjX758tGrVyvAdsMbGxjg7O7N3715Gjx79xnYOHDjAzJkz0el0lC5d2jANUtmyZWndujXNmzdHp9Nx6NAhhgwZQkJCAu3atQOgZcuWDBkyJFvGI3yYxAcoBEEQFCZONQiCIChMFF5BEASFicIrCIKgMFF4BUEQFCYKryAIgsJE4RUEQVCYKLyCIAgKE4VXEARBYf8DSI+eiyHNmXMAAAAASUVORK5CYII=\n",
=======
      "image/png": "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\n",
>>>>>>> master
      "text/plain": [
       "<Figure size 396x396 with 1 Axes>"
      ]
     },
     "metadata": {},
     "output_type": "display_data"
    }
   ],
   "source": [
    "from scores import Scores\n",
    "\n",
    "score = Scores(y_test, y_pred)\n",
    "score.exibir_grafico()"
   ]
  },
  {
   "cell_type": "markdown",
   "metadata": {
    "colab_type": "text",
    "id": "yR0EdgrLCaWR"
   },
   "source": [
    "## Importe a base de dados Fashion MNIST"
   ]
  },
  {
   "cell_type": "markdown",
   "metadata": {
    "colab_type": "text",
    "id": "DLdCchMdCaWQ"
   },
   "source": [
    "Esse tutorial usa a base de dados [Fashion MNIST](https://github.com/zalandoresearch/fashion-mnist) que contém 70,000 imagens em tons de cinza em 10 categorias. As imagens mostram artigos individuais de roupas com baixa resolução (28 por 28 pixels).\n",
    "\n",
    "Fashion MNIST tem como intenção substituir a clássica base de dados [MNIST](http://yann.lecun.com/exdb/mnist/ )— frequentemente usada como \"Hello, World\" de programas de aprendizado de máquina (*machine learning*) para visão computacional. A base de dados MNIST contém imagens de dígitos escritos à mão (0, 1, 2, etc.) em um formato idêntico ao dos artigos de roupas que usaremos aqui.\n",
    "\n",
    "Esse tutorial usa a Fashion MNIST para variar, e porque é um problema um pouco mais desafiador que o regular MNIST. Ambas bases são relativamente pequenas e são usadas para verificar se um algoritmo funciona como esperado. Elas são bons pontos de partida para testar e debugar código.\n",
    "\n",
    "Usaremos 60,000 imagens para treinar nossa rede e 10,000 imagens para avaliar quão precisamente nossa rede aprendeu a classificar as imagens. Você pode acessar a Fashion MNIST directly diretamente do TensorFlow. Importe e carregue a base Fashion MNIST diretamente do TensorFlow:"
   ]
  },
  {
   "cell_type": "code",
   "execution_count": 3,
   "metadata": {
    "colab": {},
    "colab_type": "code",
    "id": "7MqDQO0KCaWS"
   },
   "outputs": [],
   "source": [
    "fashion_mnist = keras.datasets.fashion_mnist\n",
    "(train_images, train_labels), (test_images, test_labels) = fashion_mnist.load_data()"
   ]
  },
  {
   "cell_type": "markdown",
   "metadata": {
    "colab_type": "text",
    "id": "t9FDsUlxCaWW"
   },
   "source": [
    "Carregando a base de dados que retorna quatro NumPy arrays:\n",
    "\n",
    "* Os *arrays* `train_images` e `train_labels`  são o *conjunto de treinamento*— os dados do modelo usados para aprender.\n",
    "* O modelo é testado com o *conjunto de teste*, os *arrays* `test_images` e `test_labels`.\n",
    "\n",
    "As imagens são arrays  NumPy de 28x28, com os valores des pixels entre 0 to 255. As *labels* (alvo da classificação) são um  array  de inteiros, no intervalo de  0 a 9. Esse corresponde com a classe de roupa que cada imagem representa:\n",
    "\n",
    "<table>\n",
    "  <tr>\n",
    "    <th>Label</th>\n",
    "    <th>Classe</th>\n",
    "  </tr>\n",
    "  <tr>\n",
    "    <td>0</td>\n",
    "    <td>Camisetas/Top (T-shirt/top)</td>\n",
    "  </tr>\n",
    "  <tr>\n",
    "    <td>1</td>\n",
    "    <td>Calça (Trouser)</td>\n",
    "  </tr>\n",
    "    <tr>\n",
    "    <td>2</td>\n",
    "    <td>Suéter (Pullover)</td>\n",
    "  </tr>\n",
    "    <tr>\n",
    "    <td>3</td>\n",
    "    <td>Vestidos (Dress)</td>\n",
    "  </tr>\n",
    "    <tr>\n",
    "    <td>4</td>\n",
    "    <td>Casaco (Coat)</td>\n",
    "  </tr>\n",
    "    <tr>\n",
    "    <td>5</td>\n",
    "    <td>Sandálias (Sandal)</td>\n",
    "  </tr>\n",
    "    <tr>\n",
    "    <td>6</td>\n",
    "    <td>Camisas (Shirt)</td>\n",
    "  </tr>\n",
    "    <tr>\n",
    "    <td>7</td>\n",
    "    <td>Tênis (Sneaker)</td>\n",
    "  </tr>\n",
    "    <tr>\n",
    "    <td>8</td>\n",
    "    <td>Bolsa (Bag)</td>\n",
    "  </tr>\n",
    "    <tr>\n",
    "    <td>9</td>\n",
    "    <td>Botas (Ankle boot)</td>\n",
    "  </tr>\n",
    "</table>\n",
    "\n",
    "Cada imagem é mapeada com um só label. Já que o *nome das classes* não são incluídas na base de dados, armazene os dados aqui para usá-los mais tarde quando plotarmos as imagens:"
   ]
  },
  {
   "cell_type": "code",
   "execution_count": 5,
   "metadata": {
    "colab": {},
    "colab_type": "code",
    "id": "IjnLH5S2CaWx"
   },
   "outputs": [],
   "source": [
    "class_names = ['T-shirt/top', 'Trouser', 'Pullover', 'Dress', 'Coat',\n",
    "               'Sandal', 'Shirt', 'Sneaker', 'Bag', 'Ankle boot']"
   ]
  },
  {
   "cell_type": "markdown",
   "metadata": {
    "colab_type": "text",
    "id": "Brm0b_KACaWX"
   },
   "source": [
    "## Explore os dados\n",
    "\n",
    "Vamos explorar o formato da base de dados antes de treinar o modelo. O próximo comando mostra que existem 60000 imagens no conjunto de treinamento, e cada imagem é representada em 28 x 28 pixels:"
   ]
  },
  {
   "cell_type": "code",
   "execution_count": 6,
   "metadata": {
    "colab": {},
    "colab_type": "code",
    "id": "zW5k_xz1CaWX"
   },
   "outputs": [
    {
     "data": {
      "text/plain": [
       "(60000, 28, 28)"
      ]
     },
     "execution_count": 6,
     "metadata": {},
     "output_type": "execute_result"
    }
   ],
   "source": [
    "train_images.shape"
   ]
  },
  {
   "cell_type": "markdown",
   "metadata": {
    "colab_type": "text",
    "id": "cIAcvQqMCaWf"
   },
   "source": [
    "Do mesmo modo, existem 60000 labels no conjunto de treinamento:"
   ]
  },
  {
   "cell_type": "code",
   "execution_count": 7,
   "metadata": {
    "colab": {},
    "colab_type": "code",
    "id": "TRFYHB2mCaWb"
   },
   "outputs": [
    {
     "data": {
      "text/plain": [
       "60000"
      ]
     },
     "execution_count": 7,
     "metadata": {},
     "output_type": "execute_result"
    }
   ],
   "source": [
    "len(train_labels)"
   ]
  },
  {
   "cell_type": "markdown",
   "metadata": {
    "colab_type": "text",
    "id": "YSlYxFuRCaWk"
   },
   "source": [
    "Cada label é um inteiro entre 0 e 9:"
   ]
  },
  {
   "cell_type": "code",
   "execution_count": 8,
   "metadata": {
    "colab": {},
    "colab_type": "code",
    "id": "XKnCTHz4CaWg"
   },
   "outputs": [
    {
     "data": {
      "text/plain": [
       "array([9, 0, 0, ..., 3, 0, 5], dtype=uint8)"
      ]
     },
     "execution_count": 8,
     "metadata": {},
     "output_type": "execute_result"
    }
   ],
   "source": [
    "train_labels"
   ]
  },
  {
   "cell_type": "markdown",
   "metadata": {
    "colab_type": "text",
    "id": "TMPI88iZpO2T"
   },
   "source": [
    "Existem 10000 imagens no conjnto de teste. Novamente, cada imagem é representada por 28 x 28 pixels:"
   ]
  },
  {
   "cell_type": "code",
   "execution_count": 9,
   "metadata": {
    "colab": {},
    "colab_type": "code",
    "id": "2KFnYlcwCaWl"
   },
   "outputs": [
    {
     "data": {
      "text/plain": [
       "(10000, 28, 28)"
      ]
     },
     "execution_count": 9,
     "metadata": {},
     "output_type": "execute_result"
    }
   ],
   "source": [
    "test_images.shape"
   ]
  },
  {
   "cell_type": "markdown",
   "metadata": {
    "colab_type": "text",
    "id": "rd0A0Iu0CaWq"
   },
   "source": [
    "E um conjunto de teste contendo 10000 labels das imagens :"
   ]
  },
  {
   "cell_type": "code",
   "execution_count": 10,
   "metadata": {
    "colab": {},
    "colab_type": "code",
    "id": "iJmPr5-ACaWn"
   },
   "outputs": [
    {
     "data": {
      "text/plain": [
       "10000"
      ]
     },
     "execution_count": 10,
     "metadata": {},
     "output_type": "execute_result"
    }
   ],
   "source": [
    "len(test_labels)"
   ]
  },
  {
   "cell_type": "markdown",
   "metadata": {
    "colab_type": "text",
    "id": "ES6uQoLKCaWr"
   },
   "source": [
    "## Pré-processe os dados\n",
    "\n",
    "Os dados precisam ser pré-processados antes de treinar a rede. Se você inspecionar a primeira imagem do conjunto de treinamento, você verá que os valores dos pixels estão entre 0 e 255:"
   ]
  },
  {
   "cell_type": "code",
   "execution_count": 12,
   "metadata": {
    "colab": {},
    "colab_type": "code",
    "id": "m4VEw8Ud9Quh"
   },
   "outputs": [
    {
     "data": {
      "image/png": "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\n",
      "text/plain": [
       "<Figure size 432x288 with 2 Axes>"
      ]
     },
     "metadata": {
      "needs_background": "light"
     },
     "output_type": "display_data"
    }
   ],
   "source": [
    "plt.figure()\n",
    "plt.imshow(train_images[1])\n",
    "plt.colorbar()\n",
    "plt.grid(False)\n",
    "plt.show()"
   ]
  },
  {
   "cell_type": "markdown",
   "metadata": {
    "colab_type": "text",
    "id": "Wz7l27Lz9S1P"
   },
   "source": [
    "Escalaremos esses valores no intervalo de 0 e 1 antes antes de alimentar o modelo da rede neural. Para fazer isso, dividimos os valores por 255. É importante que o *conjunto de treinamento* e o *conjunto de teste* podem ser pré-processados do mesmo modo:"
   ]
  },
  {
   "cell_type": "code",
   "execution_count": 13,
   "metadata": {
    "colab": {},
    "colab_type": "code",
    "id": "bW5WzIPlCaWv"
   },
   "outputs": [],
   "source": [
    "train_images = train_images / 255.0\n",
    "\n",
    "test_images = test_images / 255.0"
   ]
  },
  {
   "cell_type": "markdown",
   "metadata": {
    "colab_type": "text",
    "id": "Ee638AlnCaWz"
   },
   "source": [
    "Para verificar que os dados estão no formato correto e que estamos prontos para construir e treinar a rede, vamos mostrar as primeiras 25 imagens do *conjunto de treinamento* e mostrar o nome das classes de cada imagem abaixo."
   ]
  },
  {
   "cell_type": "code",
   "execution_count": 14,
   "metadata": {
    "colab": {},
    "colab_type": "code",
    "id": "oZTImqg_CaW1"
   },
   "outputs": [
    {
     "data": {
      "image/png": "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\n",
      "text/plain": [
       "<Figure size 720x720 with 25 Axes>"
      ]
     },
     "metadata": {},
     "output_type": "display_data"
    }
   ],
   "source": [
    "plt.figure(figsize=(10,10))\n",
    "for i in range(25):\n",
    "    plt.subplot(5,5,i+1)\n",
    "    plt.xticks([])\n",
    "    plt.yticks([])\n",
    "    plt.grid(False)\n",
    "    plt.imshow(train_images[i])#, cmap=plt.cm.binary)\n",
    "    plt.xlabel(class_names[train_labels[i]])\n",
    "plt.show()"
   ]
  },
  {
   "cell_type": "markdown",
   "metadata": {
    "colab_type": "text",
    "id": "59veuiEZCaW4"
   },
   "source": [
    "## Construindo o modelo\n",
    "\n",
    "Construir a rede neural requer configurar as camadas do modelo, e depois, compilar o modelo."
   ]
  },
  {
   "cell_type": "markdown",
   "metadata": {
    "colab_type": "text",
    "id": "Gxg1XGm0eOBy"
   },
   "source": [
    "### Montar as camadas\n",
    "\n",
    "O principal bloco de construção da rede neural é a camada (*layer*). As camadas (*layers*) extraem representações dos dados inseridos na rede. Com sorte, essas representações são significativas para o problema à mão.\n",
    "\n",
    "Muito do *deep learning* consiste encadear simples camadas. Muitas camadas, como `tf.keras.layers.Dense`, tem paramêtros que são aprendidos durante o treinamento."
   ]
  },
  {
   "cell_type": "code",
   "execution_count": 43,
   "metadata": {
    "colab": {},
    "colab_type": "code",
    "id": "9ODch-OFCaW4"
   },
   "outputs": [],
   "source": [
    "model = keras.Sequential([\n",
    "    keras.layers.Flatten(input_shape=(28, 28)), #784\n",
    "    keras.layers.Dense(512, activation='relu'),\n",
    "    keras.layers.Dense(256, activation='relu'),\n",
    "    keras.layers.Dense(128, activation='relu'),\n",
    "    keras.layers.Dense(10, activation='softmax')\n",
    "])"
   ]
  },
  {
   "cell_type": "markdown",
   "metadata": {
    "colab_type": "text",
    "id": "gut8A_7rCaW6"
   },
   "source": [
    "A primeira camada da rede, `tf.keras.layers.Flatten`, transforma o formato da imagem de um array de imagens de duas dimensões (of 28 by 28 pixels) para um array de uma dimensão (de 28 * 28 = 784 pixels). Pense nessa camada como camadas não empilhadas de pixels de uma imagem e os emfilere. Essa camada não tem paramêtros para aprender; ela só reformata os dados.\n",
    "\n",
    "Depois dos pixels serem achatados, a rede consite de uma sequência de duas camadas `tf.keras.layers.Dense`. Essa são camadas neurais *densely connected*, ou *fully connected*. A primeira camada `Dense` tem 128 nós (ou neurônios). A segunda (e última) camda é uma *softmax*  de 10 nós que retorna um array de 10 probabilidades, cuja soma resulta em 1. Cada nó contem um valor que indica a probabilidade de que aquela imagem pertence a uma das 10 classes.\n",
    "\n",
    "### Compile o modelo\n",
    "\n",
    "Antes do modelo estar pronto para o treinamento, é necessário algumas configurações a mais. Essas serão adicionadas no passo de *compilação*:\n",
    "\n",
    "* *Função Loss* —Essa mede quão precisa o modelo é durante o treinamento. Queremos minimizar a função para *guiar* o modelo para direção certa.\n",
    "* *Optimizer* —Isso é como o modelo se atualiza com base no dado que ele vê e sua função *loss*.\n",
    "* *Métricas* —usadas para monitorar os passos de treinamento e teste. O exemplo abaixo usa a *acurácia*, a fração das imagens que foram classificadas corretamente."
   ]
  },
  {
   "cell_type": "code",
   "execution_count": 44,
   "metadata": {
    "colab": {},
    "colab_type": "code",
    "id": "Lhan11blCaW7"
   },
   "outputs": [],
   "source": [
    "model.compile(optimizer='adam',\n",
    "              loss='sparse_categorical_crossentropy',\n",
    "              metrics=['accuracy'])"
   ]
  },
  {
   "cell_type": "markdown",
   "metadata": {
    "colab_type": "text",
    "id": "qKF6uW-BCaW-"
   },
   "source": [
    "## Treine o modelo\n",
    "\n",
    "Treinar a rede neural requer os seguintes passos:\n",
    "\n",
    "1. Alimente com os dados de treinamento, o modelo. Neste exemplo, os dados de treinamento são os arrays `train_images` e `train_labels`.\n",
    "2. O modelo aprende como associar as imagens as *labels*.\n",
    "3. Perguntamos ao modelo para fazer previsões sobre o conjunto de teste — nesse exemplo, o array `test_images`. Verificamos se as previsões combinaram com as *labels*  do array `test_labels`.\n",
    "\n",
    "Para começar a treinar, chame o método `model.fit`— assim chamado, porque ele \"encaixa\" o modelo no conjunto de treinamento:"
   ]
  },
  {
   "cell_type": "code",
   "execution_count": 45,
   "metadata": {
    "colab": {},
    "colab_type": "code",
    "id": "xvwvpA64CaW_"
   },
   "outputs": [
    {
     "name": "stdout",
     "output_type": "stream",
     "text": [
      "Epoch 1/10\n",
      "60000/60000 [==============================] - 7s 120us/sample - loss: 0.4714 - acc: 0.8291\n",
      "Epoch 2/10\n",
      "60000/60000 [==============================] - 7s 119us/sample - loss: 0.3614 - acc: 0.8676\n",
      "Epoch 3/10\n",
      "60000/60000 [==============================] - 8s 138us/sample - loss: 0.3251 - acc: 0.8806\n",
      "Epoch 4/10\n",
      "60000/60000 [==============================] - 9s 145us/sample - loss: 0.3016 - acc: 0.8879\n",
      "Epoch 5/10\n",
      "60000/60000 [==============================] - 8s 141us/sample - loss: 0.2869 - acc: 0.8930\n",
      "Epoch 6/10\n",
      "60000/60000 [==============================] - 9s 146us/sample - loss: 0.2690 - acc: 0.8992\n",
      "Epoch 7/10\n",
      "60000/60000 [==============================] - 9s 148us/sample - loss: 0.2554 - acc: 0.9032\n",
      "Epoch 8/10\n",
      "60000/60000 [==============================] - 9s 156us/sample - loss: 0.2471 - acc: 0.9062\n",
      "Epoch 9/10\n",
      "60000/60000 [==============================] - 9s 147us/sample - loss: 0.2353 - acc: 0.9106\n",
      "Epoch 10/10\n",
      "60000/60000 [==============================] - 9s 151us/sample - loss: 0.2260 - acc: 0.9146\n"
     ]
    },
    {
     "data": {
      "text/plain": [
       "<tensorflow.python.keras.callbacks.History at 0x21cca96f888>"
      ]
     },
     "execution_count": 45,
     "metadata": {},
     "output_type": "execute_result"
    }
   ],
   "source": [
    "model.fit(train_images, train_labels, epochs=10)"
   ]
  },
  {
   "cell_type": "markdown",
   "metadata": {
    "colab_type": "text",
    "id": "W3ZVOhugCaXA"
   },
   "source": [
    "À medida que o modelo treina, as métricas loss e acurácia são mostradas. O modelo atinge uma acurácia de 0.915 (ou 91.5%) com o conjunto de treinamento."
   ]
  },
  {
   "cell_type": "markdown",
   "metadata": {
    "colab_type": "text",
    "id": "oEw4bZgGCaXB"
   },
   "source": [
    "## Avalie a acurácia\n",
    "\n",
    "Depois, compare como o modelo performou com o conjunto de teste:"
   ]
  },
  {
   "cell_type": "code",
   "execution_count": 47,
   "metadata": {
    "colab": {},
    "colab_type": "code",
    "id": "VflXLEeECaXC"
   },
   "outputs": [
    {
     "name": "stdout",
     "output_type": "stream",
     "text": [
      "10000/10000 - 0s - loss: 0.3492 - acc: 0.8909\n"
     ]
    }
   ],
   "source": [
    "test_loss, test_acc = model.evaluate(test_images, test_labels, verbose=2)"
   ]
  },
  {
   "cell_type": "markdown",
   "metadata": {
    "colab_type": "text",
    "id": "yWfgsmVXCaXG"
   },
   "source": [
    "Acabou que o a acurácia com o conjunto de teste é um pouco menor do que a acurácia de treinamento. Essa diferença entre as duas acurácias representa um *overfitting*. Overfitting é modelo de aprendizado de máquina performou de maneira pior em um conjunto de entradas novas, e não usadas anteriormente, que usando o conjunto de treinamento."
   ]
  },
  {
   "cell_type": "markdown",
   "metadata": {
    "colab_type": "text",
    "id": "xsoS7CPDCaXH"
   },
   "source": [
    "## Faça predições\n",
    "\n",
    "Com o modelo treinado, o usaremos para predições de algumas imagens.\n",
    "Aqui, o modelo previu que a *label*  de cada imagem no conjunto de treinamento. Vamos olhar na primeira predição:"
   ]
  },
  {
   "cell_type": "code",
   "execution_count": 49,
   "metadata": {
    "colab": {},
    "colab_type": "code",
    "id": "Gl91RPhdCaXI"
   },
   "outputs": [
    {
     "data": {
      "text/plain": [
       "array([6.3709162e-09, 1.7573402e-07, 8.8697734e-09, 2.7233458e-09,\n",
       "       3.2655709e-10, 3.6782939e-03, 3.2887030e-07, 6.3585707e-05,\n",
       "       8.7555927e-09, 9.9625754e-01], dtype=float32)"
      ]
     },
     "execution_count": 49,
     "metadata": {},
     "output_type": "execute_result"
    }
   ],
   "source": [
    "predictions = model.predict(test_images)\n",
    "predictions[0]"
   ]
  },
  {
   "cell_type": "markdown",
   "metadata": {
    "colab_type": "text",
    "id": "-hw1hgeSCaXN"
   },
   "source": [
    "A predição é um array de 10 números. Eles representam um a *confiança* do modelo que a imagem corresponde a cada um dos diferentes artigos de roupa. Podemos ver cada *label*  tem um maior valor de confiança:"
   ]
  },
  {
   "cell_type": "code",
   "execution_count": 50,
   "metadata": {
    "colab": {},
    "colab_type": "code",
    "id": "qsqenuPnCaXO"
   },
   "outputs": [
    {
     "data": {
      "text/plain": [
       "9"
      ]
     },
     "execution_count": 50,
     "metadata": {},
     "output_type": "execute_result"
    }
   ],
   "source": [
    "np.argmax(predictions[0])"
   ]
  }
 ],
 "metadata": {
  "colab": {
   "collapsed_sections": [],
   "name": "classification.ipynb",
   "private_outputs": true,
   "provenance": [],
   "toc_visible": true,
   "version": "0.3.2"
  },
  "kernelspec": {
   "display_name": "Python 3",
   "language": "python",
   "name": "python3"
  },
  "language_info": {
   "codemirror_mode": {
    "name": "ipython",
    "version": 3
   },
   "file_extension": ".py",
   "mimetype": "text/x-python",
   "name": "python",
   "nbconvert_exporter": "python",
   "pygments_lexer": "ipython3",
   "version": "3.8.3"
  }
 },
 "nbformat": 4,
 "nbformat_minor": 1
}
