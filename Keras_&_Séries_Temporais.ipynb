{
  "nbformat": 4,
  "nbformat_minor": 0,
  "metadata": {
    "colab": {
      "name": "Keras & Séries Temporais.ipynb",
      "provenance": [],
      "collapsed_sections": []
    },
    "kernelspec": {
      "name": "python3",
      "display_name": "Python 3"
    }
  },
  "cells": [
    {
      "cell_type": "code",
      "metadata": {
        "id": "fcIAeuvMAodB"
      },
      "source": [
        "import numpy as np\n",
        "import pandas as pd\n",
        "import tensorflow as tf\n",
        "from tensorflow import keras"
      ],
      "execution_count": 31,
      "outputs": []
    },
    {
      "cell_type": "code",
      "metadata": {
        "id": "9uwfXNWcJkV5"
      },
      "source": [
        "dados = np.arange(1, 101, 1)"
      ],
      "execution_count": null,
      "outputs": []
    },
    {
      "cell_type": "code",
      "metadata": {
        "id": "4LnFNUOlK6t8"
      },
      "source": [
        "def gerar_janelas(lista, tam):\n",
        "  '''(np.array, int) -> np.array, np.array'''\n",
        "  x, y = [], []\n",
        "  n = len(lista)\n",
        "  for i in range(n-tam):\n",
        "    janela = lista[i:i+tam]\n",
        "    x.append(janela)\n",
        "    y.append(lista[i+tam])\n",
        "  return np.array(x), np.array(y)"
      ],
      "execution_count": null,
      "outputs": []
    },
    {
      "cell_type": "code",
      "metadata": {
        "id": "BTEHzERKLxwl",
        "outputId": "7d295419-6b31-45bb-8f0c-e587ec0baee5",
        "colab": {
          "base_uri": "https://localhost:8080/"
        }
      },
      "source": [
        "tam_janela = 10\n",
        "x, y = gerar_janelas(dados, tam_janela)\n",
        "print(len(dados), \"dados =>\", len(x), \"janelas\")\n",
        "for i in range(len(x)):\n",
        "  print(x[i], y[i])"
      ],
      "execution_count": 44,
      "outputs": [
        {
          "output_type": "stream",
          "text": [
            "100 dados => 90 janelas\n",
            "[ 1  2  3  4  5  6  7  8  9 10] 11\n",
            "[ 2  3  4  5  6  7  8  9 10 11] 12\n",
            "[ 3  4  5  6  7  8  9 10 11 12] 13\n",
            "[ 4  5  6  7  8  9 10 11 12 13] 14\n",
            "[ 5  6  7  8  9 10 11 12 13 14] 15\n",
            "[ 6  7  8  9 10 11 12 13 14 15] 16\n",
            "[ 7  8  9 10 11 12 13 14 15 16] 17\n",
            "[ 8  9 10 11 12 13 14 15 16 17] 18\n",
            "[ 9 10 11 12 13 14 15 16 17 18] 19\n",
            "[10 11 12 13 14 15 16 17 18 19] 20\n",
            "[11 12 13 14 15 16 17 18 19 20] 21\n",
            "[12 13 14 15 16 17 18 19 20 21] 22\n",
            "[13 14 15 16 17 18 19 20 21 22] 23\n",
            "[14 15 16 17 18 19 20 21 22 23] 24\n",
            "[15 16 17 18 19 20 21 22 23 24] 25\n",
            "[16 17 18 19 20 21 22 23 24 25] 26\n",
            "[17 18 19 20 21 22 23 24 25 26] 27\n",
            "[18 19 20 21 22 23 24 25 26 27] 28\n",
            "[19 20 21 22 23 24 25 26 27 28] 29\n",
            "[20 21 22 23 24 25 26 27 28 29] 30\n",
            "[21 22 23 24 25 26 27 28 29 30] 31\n",
            "[22 23 24 25 26 27 28 29 30 31] 32\n",
            "[23 24 25 26 27 28 29 30 31 32] 33\n",
            "[24 25 26 27 28 29 30 31 32 33] 34\n",
            "[25 26 27 28 29 30 31 32 33 34] 35\n",
            "[26 27 28 29 30 31 32 33 34 35] 36\n",
            "[27 28 29 30 31 32 33 34 35 36] 37\n",
            "[28 29 30 31 32 33 34 35 36 37] 38\n",
            "[29 30 31 32 33 34 35 36 37 38] 39\n",
            "[30 31 32 33 34 35 36 37 38 39] 40\n",
            "[31 32 33 34 35 36 37 38 39 40] 41\n",
            "[32 33 34 35 36 37 38 39 40 41] 42\n",
            "[33 34 35 36 37 38 39 40 41 42] 43\n",
            "[34 35 36 37 38 39 40 41 42 43] 44\n",
            "[35 36 37 38 39 40 41 42 43 44] 45\n",
            "[36 37 38 39 40 41 42 43 44 45] 46\n",
            "[37 38 39 40 41 42 43 44 45 46] 47\n",
            "[38 39 40 41 42 43 44 45 46 47] 48\n",
            "[39 40 41 42 43 44 45 46 47 48] 49\n",
            "[40 41 42 43 44 45 46 47 48 49] 50\n",
            "[41 42 43 44 45 46 47 48 49 50] 51\n",
            "[42 43 44 45 46 47 48 49 50 51] 52\n",
            "[43 44 45 46 47 48 49 50 51 52] 53\n",
            "[44 45 46 47 48 49 50 51 52 53] 54\n",
            "[45 46 47 48 49 50 51 52 53 54] 55\n",
            "[46 47 48 49 50 51 52 53 54 55] 56\n",
            "[47 48 49 50 51 52 53 54 55 56] 57\n",
            "[48 49 50 51 52 53 54 55 56 57] 58\n",
            "[49 50 51 52 53 54 55 56 57 58] 59\n",
            "[50 51 52 53 54 55 56 57 58 59] 60\n",
            "[51 52 53 54 55 56 57 58 59 60] 61\n",
            "[52 53 54 55 56 57 58 59 60 61] 62\n",
            "[53 54 55 56 57 58 59 60 61 62] 63\n",
            "[54 55 56 57 58 59 60 61 62 63] 64\n",
            "[55 56 57 58 59 60 61 62 63 64] 65\n",
            "[56 57 58 59 60 61 62 63 64 65] 66\n",
            "[57 58 59 60 61 62 63 64 65 66] 67\n",
            "[58 59 60 61 62 63 64 65 66 67] 68\n",
            "[59 60 61 62 63 64 65 66 67 68] 69\n",
            "[60 61 62 63 64 65 66 67 68 69] 70\n",
            "[61 62 63 64 65 66 67 68 69 70] 71\n",
            "[62 63 64 65 66 67 68 69 70 71] 72\n",
            "[63 64 65 66 67 68 69 70 71 72] 73\n",
            "[64 65 66 67 68 69 70 71 72 73] 74\n",
            "[65 66 67 68 69 70 71 72 73 74] 75\n",
            "[66 67 68 69 70 71 72 73 74 75] 76\n",
            "[67 68 69 70 71 72 73 74 75 76] 77\n",
            "[68 69 70 71 72 73 74 75 76 77] 78\n",
            "[69 70 71 72 73 74 75 76 77 78] 79\n",
            "[70 71 72 73 74 75 76 77 78 79] 80\n",
            "[71 72 73 74 75 76 77 78 79 80] 81\n",
            "[72 73 74 75 76 77 78 79 80 81] 82\n",
            "[73 74 75 76 77 78 79 80 81 82] 83\n",
            "[74 75 76 77 78 79 80 81 82 83] 84\n",
            "[75 76 77 78 79 80 81 82 83 84] 85\n",
            "[76 77 78 79 80 81 82 83 84 85] 86\n",
            "[77 78 79 80 81 82 83 84 85 86] 87\n",
            "[78 79 80 81 82 83 84 85 86 87] 88\n",
            "[79 80 81 82 83 84 85 86 87 88] 89\n",
            "[80 81 82 83 84 85 86 87 88 89] 90\n",
            "[81 82 83 84 85 86 87 88 89 90] 91\n",
            "[82 83 84 85 86 87 88 89 90 91] 92\n",
            "[83 84 85 86 87 88 89 90 91 92] 93\n",
            "[84 85 86 87 88 89 90 91 92 93] 94\n",
            "[85 86 87 88 89 90 91 92 93 94] 95\n",
            "[86 87 88 89 90 91 92 93 94 95] 96\n",
            "[87 88 89 90 91 92 93 94 95 96] 97\n",
            "[88 89 90 91 92 93 94 95 96 97] 98\n",
            "[89 90 91 92 93 94 95 96 97 98] 99\n",
            "[90 91 92 93 94 95 96 97 98 99] 100\n"
          ],
          "name": "stdout"
        }
      ]
    },
    {
      "cell_type": "code",
      "metadata": {
        "id": "pqNxzkqGSRLz"
      },
      "source": [
        "X = x.reshape((x.shape[0], tam_janela, 1))"
      ],
      "execution_count": 64,
      "outputs": []
    },
    {
      "cell_type": "code",
      "metadata": {
        "id": "gReZyz4UOjLK"
      },
      "source": [
        "model = keras.Sequential()\n",
        "model.add(keras.layers.Conv1D(filters=64, kernel_size=5, activation='elu', input_shape=(tam_janela, 1)))\n",
        "model.add(keras.layers.MaxPooling1D(pool_size=5))\n",
        "model.add(keras.layers.Flatten())\n",
        "model.add(keras.layers.Dense(50, activation='elu'))\n",
        "model.add(keras.layers.Dense(1))\n",
        "model.compile(optimizer='adam', loss='mse')"
      ],
      "execution_count": 83,
      "outputs": []
    },
    {
      "cell_type": "code",
      "metadata": {
        "id": "o20erZZ_TCOj",
        "outputId": "81179efb-57ac-439a-ed6e-00764228f0a6",
        "colab": {
          "base_uri": "https://localhost:8080/"
        }
      },
      "source": [
        "# treinar modelo\n",
        "model.fit(X, y, epochs=2000, verbose=0)"
      ],
      "execution_count": 84,
      "outputs": [
        {
          "output_type": "execute_result",
          "data": {
            "text/plain": [
              "<tensorflow.python.keras.callbacks.History at 0x7fcdcfce6358>"
            ]
          },
          "metadata": {
            "tags": []
          },
          "execution_count": 84
        }
      ]
    },
    {
      "cell_type": "code",
      "metadata": {
        "id": "yor8MoJVWGIh",
        "outputId": "b45e2d7f-72ff-410d-bfbd-5071e618114a",
        "colab": {
          "base_uri": "https://localhost:8080/"
        }
      },
      "source": [
        "# Exibe erro MSE para conjunto de treino\n",
        "model.evaluate(X, y)"
      ],
      "execution_count": 88,
      "outputs": [
        {
          "output_type": "stream",
          "text": [
            "3/3 [==============================] - 0s 2ms/step - loss: 2.3876e-05\n"
          ],
          "name": "stdout"
        },
        {
          "output_type": "execute_result",
          "data": {
            "text/plain": [
              "2.3875634724390693e-05"
            ]
          },
          "metadata": {
            "tags": []
          },
          "execution_count": 88
        }
      ]
    },
    {
      "cell_type": "code",
      "metadata": {
        "id": "zyRhIWOeXc06"
      },
      "source": [
        "teste = np.arange(91, 120, 1)\n",
        "x_test, y_test = gerar_janelas(teste, tam_janela)\n",
        "x_test = x_test.reshape((len(x_test), tam_janela, 1))"
      ],
      "execution_count": 95,
      "outputs": []
    },
    {
      "cell_type": "code",
      "metadata": {
        "id": "uymm9B1JX_oK",
        "outputId": "875398a2-0993-49eb-a86e-f41bedd9a935",
        "colab": {
          "base_uri": "https://localhost:8080/"
        }
      },
      "source": [
        "print(model.predict(x_test).reshape(-1),\"\\n\", y_test)"
      ],
      "execution_count": 101,
      "outputs": [
        {
          "output_type": "stream",
          "text": [
            "[100.989136 101.98757  102.98581  103.98386  104.9817   105.97935\n",
            " 106.976814 107.9741   108.97121  109.96812  110.96487  111.96145\n",
            " 112.957855 113.95407  114.950134 115.94604  116.94178  117.937386\n",
            " 118.93281 ] \n",
            " [101 102 103 104 105 106 107 108 109 110 111 112 113 114 115 116 117 118\n",
            " 119]\n"
          ],
          "name": "stdout"
        }
      ]
    },
    {
      "cell_type": "code",
      "metadata": {
        "id": "nImNyG79Xoni",
        "outputId": "8ed7e9e0-690f-43c0-b0b1-12808e1bcb70",
        "colab": {
          "base_uri": "https://localhost:8080/"
        }
      },
      "source": [
        "model.evaluate(x_test, y_test)"
      ],
      "execution_count": 102,
      "outputs": [
        {
          "output_type": "stream",
          "text": [
            "1/1 [==============================] - 0s 1ms/step - loss: 0.0015\n"
          ],
          "name": "stdout"
        },
        {
          "output_type": "execute_result",
          "data": {
            "text/plain": [
              "0.0014934530481696129"
            ]
          },
          "metadata": {
            "tags": []
          },
          "execution_count": 102
        }
      ]
    }
  ]
}