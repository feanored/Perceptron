{
 "cells": [
  {
   "cell_type": "code",
   "execution_count": 13,
   "metadata": {},
   "outputs": [],
   "source": [
    "%matplotlib inline\n",
    "import numpy as np\n",
    "import pandas as pd\n",
    "import matplotlib as mpl\n",
    "import matplotlib.pyplot as plt\n",
    "from tqdm import tqdm_notebook as tqdm\n",
    "\n",
    "from sklearn.datasets import fetch_openml\n",
    "from sklearn.linear_model import SGDClassifier, Perceptron\n",
    "from sklearn.model_selection import cross_val_predict, GridSearchCV, RandomizedSearchCV"
   ]
  },
  {
   "cell_type": "code",
   "execution_count": 3,
   "metadata": {},
   "outputs": [],
   "source": [
    "import warnings\n",
    "warnings.simplefilter(action='ignore', category=FutureWarning)"
   ]
  },
  {
   "cell_type": "code",
   "execution_count": 4,
   "metadata": {},
   "outputs": [],
   "source": [
    "mnist = fetch_openml('mnist_784', version=1) # obtendo o conjunto de imagens de números escritos"
   ]
  },
  {
   "cell_type": "markdown",
   "metadata": {},
   "source": [
    "# Classe que criei para validar e medir a eficiência de qualquer preditor com qualquer número de classes de predição"
   ]
  },
  {
   "cell_type": "code",
   "execution_count": 10,
   "metadata": {},
   "outputs": [],
   "source": [
    "class Scores():\n",
    "    def __init__(self, x=[], y=[]):\n",
    "        if len(x)*len(y) > 0 and len(x) == len(y):\n",
    "            self.x = x\n",
    "            self.y = y\n",
    "            self.classes = []\n",
    "            self._matriz_confusao()\n",
    "            self._acuracia()\n",
    "            self._precisao()\n",
    "            self._recall()\n",
    "        else:\n",
    "            raise(\"Vetores devem existir e ter o mesmo tamanho!\")\n",
    "    \n",
    "    def _matriz_confusao(self):\n",
    "        for x in self.x:\n",
    "            if x not in self.classes:\n",
    "                self.classes.append(x)\n",
    "        self.classes = sorted(self.classes)\n",
    "        \n",
    "        self.matriz = []\n",
    "        for i in range(len(self.classes)):\n",
    "            classe_x = self.classes[i]\n",
    "            linha = []\n",
    "            for j in range(len(self.classes)):\n",
    "                classe_y = self.classes[j]\n",
    "                cont = 0\n",
    "                for k in range(len(self.x)):\n",
    "                    if self.x[k] == classe_x and self.y[k] == classe_y:\n",
    "                        cont += 1\n",
    "                linha.append(cont)\n",
    "            self.matriz.append(linha)\n",
    "                    \n",
    "\n",
    "    def _acuracia(self): # cálculo da acurácia de uma matriz de confusão (quadrada)\n",
    "        diag = 0\n",
    "        for i in range(len(self.matriz)):\n",
    "            diag += self.matriz[i][i]\n",
    "        self.acuracia = diag / len(self.x)\n",
    "    \n",
    "    def _precisao(self): # cálculo da precisão de uma matriz de confusão (quadrada)\n",
    "        if len(self.matriz) == 2:\n",
    "            self.precisao = self.matriz[1][1] / (self.matriz[0][1] + self.matriz[1][1])\n",
    "        else:\n",
    "            self.precisao = self.acuracia\n",
    "\n",
    "    def _recall(self): # cálculo do recall de uma matriz de confusão (quadrada)\n",
    "        if len(self.matriz) == 2:\n",
    "            self.recall = self.matriz[1][1] / (self.matriz[1][0] + self.matriz[1][1])\n",
    "        else:\n",
    "            self.recall = self.acuracia\n",
    "            "
   ]
  },
  {
   "cell_type": "markdown",
   "metadata": {},
   "source": [
    "## Separando os conjuntos de treino e de teste, conforme instruções do site do dataset"
   ]
  },
  {
   "cell_type": "code",
   "execution_count": 5,
   "metadata": {},
   "outputs": [
    {
     "name": "stdout",
     "output_type": "stream",
     "text": [
      "(60000, 784) (60000,)\n",
      "(10000, 784) (10000,)\n"
     ]
    }
   ],
   "source": [
    "_N = 60000\n",
    "x_train, y_train = mnist.data[:_N], mnist.target[:_N].astype(np.uint8)\n",
    "x_test, y_test = mnist.data[_N:], mnist.target[_N:].astype(np.uint8)\n",
    "\n",
    "print(x_train.shape, y_train.shape)\n",
    "print(x_test.shape, y_test.shape)"
   ]
  },
  {
   "cell_type": "code",
   "execution_count": 58,
   "metadata": {},
   "outputs": [
    {
     "data": {
      "text/plain": [
       "{'random_state': 53, 'penalty': 'l1'}"
      ]
     },
     "execution_count": 58,
     "metadata": {},
     "output_type": "execute_result"
    }
   ],
   "source": [
    "# encontrando melhores parâmetros para o Perceptron\n",
    "\n",
    "params = {'penalty': (None, 'l1', 'l2', 'elasticnet'), 'random_state': np.arange(1, 101, 1)}\n",
    "percep = RandomizedSearchCV(Perceptron(random_state=42, n_jobs=-1), params)\n",
    "percep.fit(x_train, y_train)\n",
    "percep.best_params_"
   ]
  },
  {
   "cell_type": "code",
   "execution_count": 82,
   "metadata": {},
   "outputs": [
    {
     "data": {
      "text/plain": [
       "0.8684"
      ]
     },
     "execution_count": 82,
     "metadata": {},
     "output_type": "execute_result"
    }
   ],
   "source": [
    "percep.best_score_"
   ]
  },
  {
   "cell_type": "code",
   "execution_count": 61,
   "metadata": {},
   "outputs": [
    {
     "data": {
      "text/plain": [
       "{'loss': 'log', 'penalty': 'l1'}"
      ]
     },
     "execution_count": 61,
     "metadata": {},
     "output_type": "execute_result"
    }
   ],
   "source": [
    "# encontrando melhores parâmetros para o SGDClassifier\n",
    "\n",
    "params = {'loss': ('hinge', 'log', 'modified_huber', 'squared_hinge', 'perceptron', \n",
    "                   'squared_loss', 'huber', 'epsilon_insensitive', 'squared_epsilon_insensitive'),\n",
    "          'penalty': ('l1', 'l2', 'elasticnet')}\n",
    "sgd = GridSearchCV(SGDClassifier(random_state=42, n_jobs=-1), params)\n",
    "sgd.fit(x_train, y_train)\n",
    "sgd.best_params_"
   ]
  },
  {
   "cell_type": "code",
   "execution_count": 73,
   "metadata": {},
   "outputs": [
    {
     "data": {
      "text/plain": [
       "0.8952166666666667"
      ]
     },
     "execution_count": 73,
     "metadata": {},
     "output_type": "execute_result"
    }
   ],
   "source": [
    "sgd.best_score_"
   ]
  },
  {
   "cell_type": "code",
   "execution_count": 85,
   "metadata": {},
   "outputs": [],
   "source": [
    "# Treinando pra valer, classificador de todos os dígitos\n",
    "\n",
    "#sgd_clf = SGDClassifier(random_state=42, n_jobs=-1, loss='perceptron')\n",
    "#sgd_clf.fit(x_train, y_train)\n",
    "sgd_clf = sgd.best_estimator_"
   ]
  },
  {
   "cell_type": "code",
   "execution_count": 86,
   "metadata": {},
   "outputs": [
    {
     "name": "stdout",
     "output_type": "stream",
     "text": [
      "1\n"
     ]
    },
    {
     "data": {
      "image/png": "[encoded data removed]",
      "text/plain": [
       "<Figure size 432x288 with 1 Axes>"
      ]
     },
     "metadata": {
      "needs_background": "light"
     },
     "output_type": "display_data"
    },
    {
     "name": "stdout",
     "output_type": "stream",
     "text": [
      "[1]\n"
     ]
    }
   ],
   "source": [
    "j = int(np.random.uniform(0, _N))\n",
    "\n",
    "# exibindo o valor correspondente à imagem\n",
    "print(y_train[j]) \n",
    "some_digit = x_train[j]\n",
    "#print(\"Qtde pixels: \", len(some_digit))\n",
    "\n",
    "# a imagem é uma matriz quadrada de intensidade do cinza (0 a 255)\n",
    "some_digit_image = some_digit.reshape(28, 28)\n",
    "#print(some_digit_image)\n",
    "\n",
    "# exibindo a imagem\n",
    "plt.imshow(some_digit_image, cmap = mpl.cm.binary, interpolation=\"nearest\")\n",
    "plt.axis(\"off\")\n",
    "plt.show()\n",
    "print(sgd_clf.predict([some_digit])) # testando o digito acima encontrado"
   ]
  },
  {
   "cell_type": "code",
   "execution_count": 89,
   "metadata": {},
   "outputs": [
    {
     "name": "stdout",
     "output_type": "stream",
     "text": [
      "Matriz de confusão:\n",
      " [[5691    1   22   24    6   14   26    3  123   13]\n",
      " [   2 6468   39   23    4   21    7   10  127   41]\n",
      " [  27   36 5298  130   39   28   70   59  248   23]\n",
      " [  24   24  151 5053   12  263   13   58  332  201]\n",
      " [   9   19   41   19 5233   26   25   12  127  331]\n",
      " [  58   17   53  165   41 4586   92   15  272  122]\n",
      " [  34   11   48   14   21   90 5559    5  124   12]\n",
      " [  27    8   56   28   36   15    7 5717   70  301]\n",
      " [  30   77   69  101   20  235   30   14 5042  233]\n",
      " [  27   19   12   35   89   53    0  160  129 5425]] \n",
      "\n",
      "Acurácia: 0.9012\n",
      "Precisão: 0.9012\n",
      "Recall: 0.9012\n"
     ]
    }
   ],
   "source": [
    "# prevendo os valores no conjunto de treino\n",
    "y_train_pred = sgd_clf.predict(x_train)\n",
    "\n",
    "# criei minhas funções para calcular os scores\n",
    "scores = Scores(y_train, y_train_pred)\n",
    "\n",
    "print(\"Matriz de confusão:\\n\", np.array(scores.matriz), \"\\n\")\n",
    "print(\"Acurácia: %.4f\"%scores.acuracia)\n",
    "print(\"Precisão: %.4f\"%scores.precisao)\n",
    "print(\"Recall: %.4f\"%scores.recall)"
   ]
  },
  {
   "cell_type": "code",
   "execution_count": 90,
   "metadata": {},
   "outputs": [
    {
     "name": "stdout",
     "output_type": "stream",
     "text": [
      "Matriz de confusão:\n",
      " [[ 955    0    1    3    0    5    6    1    9    0]\n",
      " [   0 1092    5    3    0    3    3    1   24    4]\n",
      " [   1    4  899   34    6    1   11    9   63    4]\n",
      " [   5    1   17  849    2   43    2   12   54   25]\n",
      " [   1    1    7    4  871    1    4    5   31   57]\n",
      " [   9    2    1   28   12  741   14    7   61   17]\n",
      " [  10    3   10    3    5   20  889    1   17    0]\n",
      " [   0    5   16   12    4    1    1  933   16   40]\n",
      " [   9    5    7   15   12   48    9    3  818   48]\n",
      " [   3    8    2    8   16    6    0   19   33  914]] \n",
      "\n",
      "Acurácia: 0.8961\n",
      "Precisão: 0.8961\n",
      "Recall: 0.8961\n"
     ]
    }
   ],
   "source": [
    "# prevendo os valores no conjunto de teste\n",
    "y_test_pred = sgd_clf.predict(x_test)\n",
    "\n",
    "# criei minhas funções para calcular os scores\n",
    "scores = Scores(y_test, y_test_pred)\n",
    "\n",
    "print(\"Matriz de confusão:\\n\", np.array(scores.matriz), \"\\n\")\n",
    "print(\"Acurácia: %.4f\"%scores.acuracia)\n",
    "print(\"Precisão: %.4f\"%scores.precisao)\n",
    "print(\"Recall: %.4f\"%scores.recall)"
   ]
  },
  {
   "cell_type": "code",
   "execution_count": null,
   "metadata": {},
   "outputs": [],
   "source": [
    "# funções prontas do sklearn\n",
    "from sklearn.metrics import confusion_matrix\n",
    "from sklearn.metrics import accuracy_score, precision_score, recall_score\n",
    "\n",
    "matriz = confusion_matrix(y_train, y_train_pred)\n",
    "acuracia = accuracy_score(y_train, y_train_pred)\n",
    "precisao = precision_score(y_train, y_train_pred, average=\"micro\")\n",
    "recall = recall_score(y_train, y_train_pred, average=\"micro\")\n",
    "\n",
    "print(\"Matriz de confusão:\\n\", matriz, \"\\n\")\n",
    "print(\"Acurácia: %.4f\"%acuracia)\n",
    "print(\"Precisão: %.4f\"%precisao) # faz mais sentido para classificador binário\n",
    "print(\"Recall: %.4f\"%recall) # faz mais sentido para classificador binário"
   ]
  },
  {
   "cell_type": "code",
   "execution_count": null,
   "metadata": {},
   "outputs": [],
   "source": [
    "from sklearn.model_selection import StratifiedKFold\n",
    "from sklearn.base import clone\n",
    "\n",
    "# validação cruzada, 3 subconjuntos estratificados do conjunto de treino\n",
    "skfolds = StratifiedKFold(n_splits=3, random_state=42)\n",
    "for train_index, test_index in skfolds.split(x_train, y_train):\n",
    "    clone_clf = clone(sgd_clf)\n",
    "    x_train_folds = x_train[train_index]\n",
    "    y_train_folds = y_train_7[train_index]\n",
    "    x_test_fold = x_train[test_index]\n",
    "    y_test_fold = y_train_7[test_index]\n",
    "    \n",
    "    clone_clf.fit(x_train_folds, y_train_folds)\n",
    "    y_pred = clone_clf.predict(x_test_fold)\n",
    "    \n",
    "    # cálculo da acurácia desse subconjunto\n",
    "    n_correct = sum(y_pred == y_test_fold) \n",
    "    print(\"%.4f\" %(n_correct / len(y_pred)))\n",
    "    \n",
    "# validacao cruzada 'pronta'\n",
    "y_train_pred = cross_val_predict(sgd_clf, x_train, y_train, cv=3)"
   ]
  }
 ],
 "metadata": {
  "kernelspec": {
   "display_name": "Python 3",
   "language": "python",
   "name": "python3"
  },
  "language_info": {
   "codemirror_mode": {
    "name": "ipython",
    "version": 3
   },
   "file_extension": ".py",
   "mimetype": "text/x-python",
   "name": "python",
   "nbconvert_exporter": "python",
   "pygments_lexer": "ipython3",
   "version": "3.7.3"
  },
  "varInspector": {
   "cols": {
    "lenName": 16,
    "lenType": 16,
    "lenVar": 40
   },
   "kernels_config": {
    "python": {
     "delete_cmd_postfix": "",
     "delete_cmd_prefix": "del ",
     "library": "var_list.py",
     "varRefreshCmd": "print(var_dic_list())"
    },
    "r": {
     "delete_cmd_postfix": ") ",
     "delete_cmd_prefix": "rm(",
     "library": "var_list.r",
     "varRefreshCmd": "cat(var_dic_list()) "
    }
   },
   "types_to_exclude": [
    "module",
    "function",
    "builtin_function_or_method",
    "instance",
    "_Feature"
   ],
   "window_display": false
  }
 },
 "nbformat": 4,
 "nbformat_minor": 2
}
